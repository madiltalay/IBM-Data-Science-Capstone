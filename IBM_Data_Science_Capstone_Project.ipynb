{
  "nbformat": 4,
  "nbformat_minor": 0,
  "metadata": {
    "colab": {
      "name": "IBM Data Science Capstone Project.ipynb",
      "provenance": [],
      "collapsed_sections": [],
      "authorship_tag": "ABX9TyMap62ZSAFollktFxWObguq",
      "include_colab_link": true
    },
    "kernelspec": {
      "name": "python3",
      "display_name": "Python 3"
    }
  },
  "cells": [
    {
      "cell_type": "markdown",
      "metadata": {
        "id": "view-in-github",
        "colab_type": "text"
      },
      "source": [
        "<a href=\"https://colab.research.google.com/github/madiltalay/IBM-Data-Science-Capstone/blob/master/IBM_Data_Science_Capstone_Project.ipynb\" target=\"_parent\"><img src=\"https://colab.research.google.com/assets/colab-badge.svg\" alt=\"Open In Colab\"/></a>"
      ]
    },
    {
      "cell_type": "markdown",
      "metadata": {
        "id": "GU-84fRmeuJc",
        "colab_type": "text"
      },
      "source": [
        "# Background\n",
        "Mr. Arif, a novice businessperson, plans to open up a restaurant in a health-conscious neighborhood in the city of Toronto, nearby the most visited venues in order to gain more customers, and is concerned to avoid competition, which in his opinion could be achieved by either keeping a good distance from other restaurants, or choosing a type of restaurant that is popular in other neighborhoods but non-existent in the chosen neighborhood.\n",
        "\n",
        "This projects aims to help him find the most suitable location and type of restaurant to start the business."
      ]
    },
    {
      "cell_type": "code",
      "metadata": {
        "id": "gOr3elO358HN",
        "colab_type": "code",
        "colab": {
          "base_uri": "https://localhost:8080/",
          "height": 34
        },
        "outputId": "b76f1019-a22e-4219-95e9-08af99bb2615"
      },
      "source": [
        "from google.colab import drive\n",
        "drive.mount('/content/gdrive')"
      ],
      "execution_count": 1,
      "outputs": [
        {
          "output_type": "stream",
          "text": [
            "Drive already mounted at /content/gdrive; to attempt to forcibly remount, call drive.mount(\"/content/gdrive\", force_remount=True).\n"
          ],
          "name": "stdout"
        }
      ]
    },
    {
      "cell_type": "markdown",
      "metadata": {
        "id": "9eOoY6WRfLAi",
        "colab_type": "text"
      },
      "source": [
        "Importing required libraries"
      ]
    },
    {
      "cell_type": "code",
      "metadata": {
        "id": "677oqpMN5ME0",
        "colab_type": "code",
        "colab": {}
      },
      "source": [
        "import pandas as pd\n",
        "import folium\n",
        "import numpy as np\n",
        "import requests\n",
        "import geopy.distance\n",
        "import matplotlib.cm as cm\n",
        "import matplotlib.colors as colors"
      ],
      "execution_count": 0,
      "outputs": []
    },
    {
      "cell_type": "code",
      "metadata": {
        "id": "UICd-MwU54K1",
        "colab_type": "code",
        "colab": {
          "base_uri": "https://localhost:8080/",
          "height": 34
        },
        "outputId": "b5a3da14-8677-4a21-84e8-fcd1dda56369"
      },
      "source": [
        "%cd gdrive/My\\ Drive/Google\\ Colab/Coursera/IBM\\ DS\\ Capstone"
      ],
      "execution_count": 3,
      "outputs": [
        {
          "output_type": "stream",
          "text": [
            "/content/gdrive/My Drive/Google Colab/Coursera/IBM DS Capstone\n"
          ],
          "name": "stdout"
        }
      ]
    },
    {
      "cell_type": "markdown",
      "metadata": {
        "id": "e6sn244_fZSE",
        "colab_type": "text"
      },
      "source": [
        "## First Step - Shortlisting the health conscious neighborhoods\n",
        "We get the data of Toronto's health conscious neighborhoods from the Toronto wellbeing data. We use the Healthy Food Index (HFI) as a measure for the health consciousness of the neighborhood."
      ]
    },
    {
      "cell_type": "code",
      "metadata": {
        "id": "q80ZEJfX6n9b",
        "colab_type": "code",
        "colab": {
          "base_uri": "https://localhost:8080/",
          "height": 204
        },
        "outputId": "23bca8b5-3b11-4380-f42d-cfd5be100d9d"
      },
      "source": [
        "toronto_wellbeing = pd.read_csv('wellbeing_toronto.csv')\n",
        "toronto_wellbeing.head()"
      ],
      "execution_count": 4,
      "outputs": [
        {
          "output_type": "execute_result",
          "data": {
            "text/html": [
              "<div>\n",
              "<style scoped>\n",
              "    .dataframe tbody tr th:only-of-type {\n",
              "        vertical-align: middle;\n",
              "    }\n",
              "\n",
              "    .dataframe tbody tr th {\n",
              "        vertical-align: top;\n",
              "    }\n",
              "\n",
              "    .dataframe thead th {\n",
              "        text-align: right;\n",
              "    }\n",
              "</style>\n",
              "<table border=\"1\" class=\"dataframe\">\n",
              "  <thead>\n",
              "    <tr style=\"text-align: right;\">\n",
              "      <th></th>\n",
              "      <th>Neighbourhood</th>\n",
              "      <th>Total Population</th>\n",
              "      <th>Healthy Food Index</th>\n",
              "    </tr>\n",
              "  </thead>\n",
              "  <tbody>\n",
              "    <tr>\n",
              "      <th>0</th>\n",
              "      <td>West Humber-Clairville</td>\n",
              "      <td>33312</td>\n",
              "      <td>23.82</td>\n",
              "    </tr>\n",
              "    <tr>\n",
              "      <th>1</th>\n",
              "      <td>Mount Olive-Silverstone-Jamestown</td>\n",
              "      <td>32954</td>\n",
              "      <td>37.57</td>\n",
              "    </tr>\n",
              "    <tr>\n",
              "      <th>2</th>\n",
              "      <td>Thistletown-Beaumond Heights</td>\n",
              "      <td>10360</td>\n",
              "      <td>42.26</td>\n",
              "    </tr>\n",
              "    <tr>\n",
              "      <th>3</th>\n",
              "      <td>Rexdale-Kipling</td>\n",
              "      <td>10529</td>\n",
              "      <td>23.31</td>\n",
              "    </tr>\n",
              "    <tr>\n",
              "      <th>4</th>\n",
              "      <td>Elms-Old Rexdale</td>\n",
              "      <td>9456</td>\n",
              "      <td>24.71</td>\n",
              "    </tr>\n",
              "  </tbody>\n",
              "</table>\n",
              "</div>"
            ],
            "text/plain": [
              "                       Neighbourhood  Total Population  Healthy Food Index\n",
              "0             West Humber-Clairville             33312               23.82\n",
              "1  Mount Olive-Silverstone-Jamestown             32954               37.57\n",
              "2       Thistletown-Beaumond Heights             10360               42.26\n",
              "3                    Rexdale-Kipling             10529               23.31\n",
              "4                   Elms-Old Rexdale              9456               24.71"
            ]
          },
          "metadata": {
            "tags": []
          },
          "execution_count": 4
        }
      ]
    },
    {
      "cell_type": "markdown",
      "metadata": {
        "id": "DIDFGj1Mf5ib",
        "colab_type": "text"
      },
      "source": [
        "After loading the data, we sort it according to the HFI in descending order to get the most health conscious neighborhoods at the top."
      ]
    },
    {
      "cell_type": "code",
      "metadata": {
        "id": "OgGs01fC7AUF",
        "colab_type": "code",
        "colab": {
          "base_uri": "https://localhost:8080/",
          "height": 34
        },
        "outputId": "875e2d16-ef4f-4c0f-90a1-402776c156b7"
      },
      "source": [
        "toronto_wellbeing_sorted = toronto_wellbeing.sort_values(['Healthy Food Index'],ascending=[0])\n",
        "toronto_wellbeing_sorted.shape"
      ],
      "execution_count": 5,
      "outputs": [
        {
          "output_type": "execute_result",
          "data": {
            "text/plain": [
              "(140, 3)"
            ]
          },
          "metadata": {
            "tags": []
          },
          "execution_count": 5
        }
      ]
    },
    {
      "cell_type": "markdown",
      "metadata": {
        "id": "mf76D5wjgK-K",
        "colab_type": "text"
      },
      "source": [
        "From the sorted wellbeing data, we select only those neighborhoods with HFI>45"
      ]
    },
    {
      "cell_type": "code",
      "metadata": {
        "id": "2yAFLg-p7d89",
        "colab_type": "code",
        "outputId": "ad51e36a-d1d4-43ee-cf3c-e94c744425c1",
        "colab": {
          "base_uri": "https://localhost:8080/",
          "height": 483
        }
      },
      "source": [
        "toronto_wellbeing_filtered = toronto_wellbeing_sorted[toronto_wellbeing_sorted['Healthy Food Index']>45]\n",
        "toronto_wellbeing_filtered"
      ],
      "execution_count": 9,
      "outputs": [
        {
          "output_type": "execute_result",
          "data": {
            "text/html": [
              "<div>\n",
              "<style scoped>\n",
              "    .dataframe tbody tr th:only-of-type {\n",
              "        vertical-align: middle;\n",
              "    }\n",
              "\n",
              "    .dataframe tbody tr th {\n",
              "        vertical-align: top;\n",
              "    }\n",
              "\n",
              "    .dataframe thead th {\n",
              "        text-align: right;\n",
              "    }\n",
              "</style>\n",
              "<table border=\"1\" class=\"dataframe\">\n",
              "  <thead>\n",
              "    <tr style=\"text-align: right;\">\n",
              "      <th></th>\n",
              "      <th>Neighbourhood</th>\n",
              "      <th>Total Population</th>\n",
              "      <th>Healthy Food Index</th>\n",
              "    </tr>\n",
              "  </thead>\n",
              "  <tbody>\n",
              "    <tr>\n",
              "      <th>108</th>\n",
              "      <td>Caledonia-Fairbank</td>\n",
              "      <td>9955</td>\n",
              "      <td>53.48</td>\n",
              "    </tr>\n",
              "    <tr>\n",
              "      <th>90</th>\n",
              "      <td>Weston-Pellam Park</td>\n",
              "      <td>11098</td>\n",
              "      <td>52.57</td>\n",
              "    </tr>\n",
              "    <tr>\n",
              "      <th>104</th>\n",
              "      <td>Lawrence Park North</td>\n",
              "      <td>14607</td>\n",
              "      <td>52.03</td>\n",
              "    </tr>\n",
              "    <tr>\n",
              "      <th>98</th>\n",
              "      <td>Mount Pleasant East</td>\n",
              "      <td>16775</td>\n",
              "      <td>50.40</td>\n",
              "    </tr>\n",
              "    <tr>\n",
              "      <th>47</th>\n",
              "      <td>Hillcrest Village</td>\n",
              "      <td>16934</td>\n",
              "      <td>48.46</td>\n",
              "    </tr>\n",
              "    <tr>\n",
              "      <th>38</th>\n",
              "      <td>Bedford Park-Nortown</td>\n",
              "      <td>23236</td>\n",
              "      <td>47.74</td>\n",
              "    </tr>\n",
              "    <tr>\n",
              "      <th>67</th>\n",
              "      <td>North Riverdale</td>\n",
              "      <td>11916</td>\n",
              "      <td>47.17</td>\n",
              "    </tr>\n",
              "    <tr>\n",
              "      <th>124</th>\n",
              "      <td>Ionview</td>\n",
              "      <td>13641</td>\n",
              "      <td>47.14</td>\n",
              "    </tr>\n",
              "    <tr>\n",
              "      <th>26</th>\n",
              "      <td>York University Heights</td>\n",
              "      <td>27593</td>\n",
              "      <td>47.00</td>\n",
              "    </tr>\n",
              "    <tr>\n",
              "      <th>86</th>\n",
              "      <td>High Park-Swansea</td>\n",
              "      <td>23925</td>\n",
              "      <td>46.53</td>\n",
              "    </tr>\n",
              "    <tr>\n",
              "      <th>8</th>\n",
              "      <td>Edenbridge-Humber Valley</td>\n",
              "      <td>15535</td>\n",
              "      <td>46.41</td>\n",
              "    </tr>\n",
              "    <tr>\n",
              "      <th>69</th>\n",
              "      <td>South Riverdale</td>\n",
              "      <td>27876</td>\n",
              "      <td>45.86</td>\n",
              "    </tr>\n",
              "    <tr>\n",
              "      <th>79</th>\n",
              "      <td>Palmerston-Little Italy</td>\n",
              "      <td>13826</td>\n",
              "      <td>45.81</td>\n",
              "    </tr>\n",
              "    <tr>\n",
              "      <th>88</th>\n",
              "      <td>Runnymede-Bloor West Village</td>\n",
              "      <td>10070</td>\n",
              "      <td>45.64</td>\n",
              "    </tr>\n",
              "  </tbody>\n",
              "</table>\n",
              "</div>"
            ],
            "text/plain": [
              "                    Neighbourhood  Total Population  Healthy Food Index\n",
              "108            Caledonia-Fairbank              9955               53.48\n",
              "90             Weston-Pellam Park             11098               52.57\n",
              "104           Lawrence Park North             14607               52.03\n",
              "98            Mount Pleasant East             16775               50.40\n",
              "47              Hillcrest Village             16934               48.46\n",
              "38           Bedford Park-Nortown             23236               47.74\n",
              "67                North Riverdale             11916               47.17\n",
              "124                       Ionview             13641               47.14\n",
              "26        York University Heights             27593               47.00\n",
              "86              High Park-Swansea             23925               46.53\n",
              "8        Edenbridge-Humber Valley             15535               46.41\n",
              "69                South Riverdale             27876               45.86\n",
              "79        Palmerston-Little Italy             13826               45.81\n",
              "88   Runnymede-Bloor West Village             10070               45.64"
            ]
          },
          "metadata": {
            "tags": []
          },
          "execution_count": 9
        }
      ]
    },
    {
      "cell_type": "markdown",
      "metadata": {
        "id": "nySDTl0Ugbe8",
        "colab_type": "text"
      },
      "source": [
        "After filtering, we get 14 neighborhoods with HFI>45"
      ]
    },
    {
      "cell_type": "code",
      "metadata": {
        "id": "_q9vgpeMXLIJ",
        "colab_type": "code",
        "colab": {
          "base_uri": "https://localhost:8080/",
          "height": 34
        },
        "outputId": "874b46c1-a3b8-41c8-a68f-03d9095b7676"
      },
      "source": [
        "toronto_wellbeing_filtered.shape"
      ],
      "execution_count": 10,
      "outputs": [
        {
          "output_type": "execute_result",
          "data": {
            "text/plain": [
              "(14, 3)"
            ]
          },
          "metadata": {
            "tags": []
          },
          "execution_count": 10
        }
      ]
    },
    {
      "cell_type": "markdown",
      "metadata": {
        "id": "SOXKz99sglVR",
        "colab_type": "text"
      },
      "source": [
        "Let's look at the names of these neighborhoods"
      ]
    },
    {
      "cell_type": "code",
      "metadata": {
        "id": "gDzEGwGAe0aY",
        "colab_type": "code",
        "colab": {
          "base_uri": "https://localhost:8080/",
          "height": 255
        },
        "outputId": "76283fdc-0c08-4384-f070-8b0c4528f887"
      },
      "source": [
        "neighborhoods = toronto_wellbeing_filtered['Neighbourhood'].to_list()\n",
        "neighborhoods"
      ],
      "execution_count": 11,
      "outputs": [
        {
          "output_type": "execute_result",
          "data": {
            "text/plain": [
              "['Caledonia-Fairbank',\n",
              " 'Weston-Pellam Park',\n",
              " 'Lawrence Park North',\n",
              " 'Mount Pleasant East',\n",
              " 'Hillcrest Village',\n",
              " 'Bedford Park-Nortown',\n",
              " 'North Riverdale',\n",
              " 'Ionview',\n",
              " 'York University Heights',\n",
              " 'High Park-Swansea',\n",
              " 'Edenbridge-Humber Valley',\n",
              " 'South Riverdale',\n",
              " 'Palmerston-Little Italy',\n",
              " 'Runnymede-Bloor West Village']"
            ]
          },
          "metadata": {
            "tags": []
          },
          "execution_count": 11
        }
      ]
    },
    {
      "cell_type": "markdown",
      "metadata": {
        "id": "yUIVckMMgqHS",
        "colab_type": "text"
      },
      "source": [
        "We tried to use the geocoder library but it was taking too long, so we instead searched directly on Google for the coordinates of these neighborhoods, from which we prepared the dataframe 'lon_lat'\n",
        "\n",
        "Note: The geocoordinates of North and South Riverdale are same, so the 14 neighborhoods actually turn into 13, but I have not removed the duplicate in the upcoming data."
      ]
    },
    {
      "cell_type": "code",
      "metadata": {
        "id": "wu5WFlKtfBFX",
        "colab_type": "code",
        "colab": {
          "base_uri": "https://localhost:8080/",
          "height": 483
        },
        "outputId": "f0034090-3475-4244-c278-3055130d5774"
      },
      "source": [
        "lon_lat = pd.DataFrame(columns=['Neighborhood', 'Latitude', 'Longitude'],\n",
        "                       data = [['Caledonia-Fairbank', 43.6899, -79.4552],\n",
        "                               ['Weston-Pellam Park', 43.6716, -79.4577],\n",
        "                               ['Lawrence Park North', 43.7238, -79.3886],\n",
        "                               ['Mount Pleasant East', 43.7051, -79.3848],\n",
        "                               ['Hillcrest Village', 43.8049, -79.3547],\n",
        "                               ['Bedford Park-Nortown', 43.7303, -79.4114],\n",
        "                               ['North Riverdale', 43.6698, -79.3554],\n",
        "                               ['Ionview', 43.7308, -79.2739],\n",
        "                               ['York University Heights', 43.7664, -79.4774],\n",
        "                               ['High Park-Swansea', 43.6536, -79.4653],\n",
        "                               ['Edenbridge-Humber Valley', 43.6671, -79.5280],\n",
        "                               ['South Riverdale', 43.6698, -79.3554],\n",
        "                               ['Palmerston-Little Italy', 43.6600, -79.4175],\n",
        "                               ['Runnymede-Bloor West Village', 43.6593, -79.4838],\n",
        "                               ])\n",
        "lon_lat"
      ],
      "execution_count": 12,
      "outputs": [
        {
          "output_type": "execute_result",
          "data": {
            "text/html": [
              "<div>\n",
              "<style scoped>\n",
              "    .dataframe tbody tr th:only-of-type {\n",
              "        vertical-align: middle;\n",
              "    }\n",
              "\n",
              "    .dataframe tbody tr th {\n",
              "        vertical-align: top;\n",
              "    }\n",
              "\n",
              "    .dataframe thead th {\n",
              "        text-align: right;\n",
              "    }\n",
              "</style>\n",
              "<table border=\"1\" class=\"dataframe\">\n",
              "  <thead>\n",
              "    <tr style=\"text-align: right;\">\n",
              "      <th></th>\n",
              "      <th>Neighborhood</th>\n",
              "      <th>Latitude</th>\n",
              "      <th>Longitude</th>\n",
              "    </tr>\n",
              "  </thead>\n",
              "  <tbody>\n",
              "    <tr>\n",
              "      <th>0</th>\n",
              "      <td>Caledonia-Fairbank</td>\n",
              "      <td>43.6899</td>\n",
              "      <td>-79.4552</td>\n",
              "    </tr>\n",
              "    <tr>\n",
              "      <th>1</th>\n",
              "      <td>Weston-Pellam Park</td>\n",
              "      <td>43.6716</td>\n",
              "      <td>-79.4577</td>\n",
              "    </tr>\n",
              "    <tr>\n",
              "      <th>2</th>\n",
              "      <td>Lawrence Park North</td>\n",
              "      <td>43.7238</td>\n",
              "      <td>-79.3886</td>\n",
              "    </tr>\n",
              "    <tr>\n",
              "      <th>3</th>\n",
              "      <td>Mount Pleasant East</td>\n",
              "      <td>43.7051</td>\n",
              "      <td>-79.3848</td>\n",
              "    </tr>\n",
              "    <tr>\n",
              "      <th>4</th>\n",
              "      <td>Hillcrest Village</td>\n",
              "      <td>43.8049</td>\n",
              "      <td>-79.3547</td>\n",
              "    </tr>\n",
              "    <tr>\n",
              "      <th>5</th>\n",
              "      <td>Bedford Park-Nortown</td>\n",
              "      <td>43.7303</td>\n",
              "      <td>-79.4114</td>\n",
              "    </tr>\n",
              "    <tr>\n",
              "      <th>6</th>\n",
              "      <td>North Riverdale</td>\n",
              "      <td>43.6698</td>\n",
              "      <td>-79.3554</td>\n",
              "    </tr>\n",
              "    <tr>\n",
              "      <th>7</th>\n",
              "      <td>Ionview</td>\n",
              "      <td>43.7308</td>\n",
              "      <td>-79.2739</td>\n",
              "    </tr>\n",
              "    <tr>\n",
              "      <th>8</th>\n",
              "      <td>York University Heights</td>\n",
              "      <td>43.7664</td>\n",
              "      <td>-79.4774</td>\n",
              "    </tr>\n",
              "    <tr>\n",
              "      <th>9</th>\n",
              "      <td>High Park-Swansea</td>\n",
              "      <td>43.6536</td>\n",
              "      <td>-79.4653</td>\n",
              "    </tr>\n",
              "    <tr>\n",
              "      <th>10</th>\n",
              "      <td>Edenbridge-Humber Valley</td>\n",
              "      <td>43.6671</td>\n",
              "      <td>-79.5280</td>\n",
              "    </tr>\n",
              "    <tr>\n",
              "      <th>11</th>\n",
              "      <td>South Riverdale</td>\n",
              "      <td>43.6698</td>\n",
              "      <td>-79.3554</td>\n",
              "    </tr>\n",
              "    <tr>\n",
              "      <th>12</th>\n",
              "      <td>Palmerston-Little Italy</td>\n",
              "      <td>43.6600</td>\n",
              "      <td>-79.4175</td>\n",
              "    </tr>\n",
              "    <tr>\n",
              "      <th>13</th>\n",
              "      <td>Runnymede-Bloor West Village</td>\n",
              "      <td>43.6593</td>\n",
              "      <td>-79.4838</td>\n",
              "    </tr>\n",
              "  </tbody>\n",
              "</table>\n",
              "</div>"
            ],
            "text/plain": [
              "                    Neighborhood  Latitude  Longitude\n",
              "0             Caledonia-Fairbank   43.6899   -79.4552\n",
              "1             Weston-Pellam Park   43.6716   -79.4577\n",
              "2            Lawrence Park North   43.7238   -79.3886\n",
              "3            Mount Pleasant East   43.7051   -79.3848\n",
              "4              Hillcrest Village   43.8049   -79.3547\n",
              "5           Bedford Park-Nortown   43.7303   -79.4114\n",
              "6                North Riverdale   43.6698   -79.3554\n",
              "7                        Ionview   43.7308   -79.2739\n",
              "8        York University Heights   43.7664   -79.4774\n",
              "9              High Park-Swansea   43.6536   -79.4653\n",
              "10      Edenbridge-Humber Valley   43.6671   -79.5280\n",
              "11               South Riverdale   43.6698   -79.3554\n",
              "12       Palmerston-Little Italy   43.6600   -79.4175\n",
              "13  Runnymede-Bloor West Village   43.6593   -79.4838"
            ]
          },
          "metadata": {
            "tags": []
          },
          "execution_count": 12
        }
      ]
    },
    {
      "cell_type": "markdown",
      "metadata": {
        "id": "WvhQ9PbWhK4b",
        "colab_type": "text"
      },
      "source": [
        "Now we merge the two dataframes to get a new one"
      ]
    },
    {
      "cell_type": "code",
      "metadata": {
        "id": "LZ5xnr8BnT4r",
        "colab_type": "code",
        "colab": {
          "base_uri": "https://localhost:8080/",
          "height": 483
        },
        "outputId": "83597994-f515-45fc-dc30-5cf222325d19"
      },
      "source": [
        "new_data = lon_lat.copy()\n",
        "new_data = new_data.assign(Total_Population=toronto_wellbeing_filtered['Total Population'].tolist())\n",
        "new_data = new_data.assign(Healthy_Food_Index=toronto_wellbeing_filtered['Healthy Food Index'].tolist())\n",
        "new_data"
      ],
      "execution_count": 13,
      "outputs": [
        {
          "output_type": "execute_result",
          "data": {
            "text/html": [
              "<div>\n",
              "<style scoped>\n",
              "    .dataframe tbody tr th:only-of-type {\n",
              "        vertical-align: middle;\n",
              "    }\n",
              "\n",
              "    .dataframe tbody tr th {\n",
              "        vertical-align: top;\n",
              "    }\n",
              "\n",
              "    .dataframe thead th {\n",
              "        text-align: right;\n",
              "    }\n",
              "</style>\n",
              "<table border=\"1\" class=\"dataframe\">\n",
              "  <thead>\n",
              "    <tr style=\"text-align: right;\">\n",
              "      <th></th>\n",
              "      <th>Neighborhood</th>\n",
              "      <th>Latitude</th>\n",
              "      <th>Longitude</th>\n",
              "      <th>Total_Population</th>\n",
              "      <th>Healthy_Food_Index</th>\n",
              "    </tr>\n",
              "  </thead>\n",
              "  <tbody>\n",
              "    <tr>\n",
              "      <th>0</th>\n",
              "      <td>Caledonia-Fairbank</td>\n",
              "      <td>43.6899</td>\n",
              "      <td>-79.4552</td>\n",
              "      <td>9955</td>\n",
              "      <td>53.48</td>\n",
              "    </tr>\n",
              "    <tr>\n",
              "      <th>1</th>\n",
              "      <td>Weston-Pellam Park</td>\n",
              "      <td>43.6716</td>\n",
              "      <td>-79.4577</td>\n",
              "      <td>11098</td>\n",
              "      <td>52.57</td>\n",
              "    </tr>\n",
              "    <tr>\n",
              "      <th>2</th>\n",
              "      <td>Lawrence Park North</td>\n",
              "      <td>43.7238</td>\n",
              "      <td>-79.3886</td>\n",
              "      <td>14607</td>\n",
              "      <td>52.03</td>\n",
              "    </tr>\n",
              "    <tr>\n",
              "      <th>3</th>\n",
              "      <td>Mount Pleasant East</td>\n",
              "      <td>43.7051</td>\n",
              "      <td>-79.3848</td>\n",
              "      <td>16775</td>\n",
              "      <td>50.40</td>\n",
              "    </tr>\n",
              "    <tr>\n",
              "      <th>4</th>\n",
              "      <td>Hillcrest Village</td>\n",
              "      <td>43.8049</td>\n",
              "      <td>-79.3547</td>\n",
              "      <td>16934</td>\n",
              "      <td>48.46</td>\n",
              "    </tr>\n",
              "    <tr>\n",
              "      <th>5</th>\n",
              "      <td>Bedford Park-Nortown</td>\n",
              "      <td>43.7303</td>\n",
              "      <td>-79.4114</td>\n",
              "      <td>23236</td>\n",
              "      <td>47.74</td>\n",
              "    </tr>\n",
              "    <tr>\n",
              "      <th>6</th>\n",
              "      <td>North Riverdale</td>\n",
              "      <td>43.6698</td>\n",
              "      <td>-79.3554</td>\n",
              "      <td>11916</td>\n",
              "      <td>47.17</td>\n",
              "    </tr>\n",
              "    <tr>\n",
              "      <th>7</th>\n",
              "      <td>Ionview</td>\n",
              "      <td>43.7308</td>\n",
              "      <td>-79.2739</td>\n",
              "      <td>13641</td>\n",
              "      <td>47.14</td>\n",
              "    </tr>\n",
              "    <tr>\n",
              "      <th>8</th>\n",
              "      <td>York University Heights</td>\n",
              "      <td>43.7664</td>\n",
              "      <td>-79.4774</td>\n",
              "      <td>27593</td>\n",
              "      <td>47.00</td>\n",
              "    </tr>\n",
              "    <tr>\n",
              "      <th>9</th>\n",
              "      <td>High Park-Swansea</td>\n",
              "      <td>43.6536</td>\n",
              "      <td>-79.4653</td>\n",
              "      <td>23925</td>\n",
              "      <td>46.53</td>\n",
              "    </tr>\n",
              "    <tr>\n",
              "      <th>10</th>\n",
              "      <td>Edenbridge-Humber Valley</td>\n",
              "      <td>43.6671</td>\n",
              "      <td>-79.5280</td>\n",
              "      <td>15535</td>\n",
              "      <td>46.41</td>\n",
              "    </tr>\n",
              "    <tr>\n",
              "      <th>11</th>\n",
              "      <td>South Riverdale</td>\n",
              "      <td>43.6698</td>\n",
              "      <td>-79.3554</td>\n",
              "      <td>27876</td>\n",
              "      <td>45.86</td>\n",
              "    </tr>\n",
              "    <tr>\n",
              "      <th>12</th>\n",
              "      <td>Palmerston-Little Italy</td>\n",
              "      <td>43.6600</td>\n",
              "      <td>-79.4175</td>\n",
              "      <td>13826</td>\n",
              "      <td>45.81</td>\n",
              "    </tr>\n",
              "    <tr>\n",
              "      <th>13</th>\n",
              "      <td>Runnymede-Bloor West Village</td>\n",
              "      <td>43.6593</td>\n",
              "      <td>-79.4838</td>\n",
              "      <td>10070</td>\n",
              "      <td>45.64</td>\n",
              "    </tr>\n",
              "  </tbody>\n",
              "</table>\n",
              "</div>"
            ],
            "text/plain": [
              "                    Neighborhood  ...  Healthy_Food_Index\n",
              "0             Caledonia-Fairbank  ...               53.48\n",
              "1             Weston-Pellam Park  ...               52.57\n",
              "2            Lawrence Park North  ...               52.03\n",
              "3            Mount Pleasant East  ...               50.40\n",
              "4              Hillcrest Village  ...               48.46\n",
              "5           Bedford Park-Nortown  ...               47.74\n",
              "6                North Riverdale  ...               47.17\n",
              "7                        Ionview  ...               47.14\n",
              "8        York University Heights  ...               47.00\n",
              "9              High Park-Swansea  ...               46.53\n",
              "10      Edenbridge-Humber Valley  ...               46.41\n",
              "11               South Riverdale  ...               45.86\n",
              "12       Palmerston-Little Italy  ...               45.81\n",
              "13  Runnymede-Bloor West Village  ...               45.64\n",
              "\n",
              "[14 rows x 5 columns]"
            ]
          },
          "metadata": {
            "tags": []
          },
          "execution_count": 13
        }
      ]
    },
    {
      "cell_type": "markdown",
      "metadata": {
        "id": "B1pDv2mehRi4",
        "colab_type": "text"
      },
      "source": [
        "Visualizing the neighborhoods on the map"
      ]
    },
    {
      "cell_type": "code",
      "metadata": {
        "id": "xumW1icyotzF",
        "colab_type": "code",
        "colab": {
          "base_uri": "https://localhost:8080/",
          "height": 763
        },
        "outputId": "5b2a2af0-926c-47cb-9f5f-a5bde01bd1db"
      },
      "source": [
        "latitude = 43.6529\n",
        "longitude = -79.3849\n",
        "\n",
        "# create map of Toronto using latitude and longitude values\n",
        "map_toronto = folium.Map(location=[latitude, longitude], zoom_start=10)\n",
        "\n",
        "# add markers to map\n",
        "for lat, lng, neighborhood in zip(new_data['Latitude'], new_data['Longitude'], new_data['Neighborhood']):\n",
        "    label = '{}'.format(neighborhood)\n",
        "    label = folium.Popup(label, parse_html=True)\n",
        "    folium.CircleMarker(\n",
        "        [lat, lng],\n",
        "        radius=5,\n",
        "        popup=label,\n",
        "        color='blue',\n",
        "        fill=True,\n",
        "        fill_color='#3186cc',\n",
        "        fill_opacity=0.7,\n",
        "        parse_html=False).add_to(map_toronto)  \n",
        "    \n",
        "map_toronto"
      ],
      "execution_count": 14,
      "outputs": [
        {
          "output_type": "execute_result",
          "data": {
            "text/html": [
              "<div style=\"width:100%;\"><div style=\"position:relative;width:100%;height:0;padding-bottom:60%;\"><iframe src=\"about:blank\" style=\"position:absolute;width:100%;height:100%;left:0;top:0;border:none !important;\" data-html=PCFET0NUWVBFIGh0bWw+CjxoZWFkPiAgICAKICAgIDxtZXRhIGh0dHAtZXF1aXY9ImNvbnRlbnQtdHlwZSIgY29udGVudD0idGV4dC9odG1sOyBjaGFyc2V0PVVURi04IiAvPgogICAgPHNjcmlwdD5MX1BSRUZFUl9DQU5WQVM9ZmFsc2U7IExfTk9fVE9VQ0g9ZmFsc2U7IExfRElTQUJMRV8zRD1mYWxzZTs8L3NjcmlwdD4KICAgIDxzY3JpcHQgc3JjPSJodHRwczovL2Nkbi5qc2RlbGl2ci5uZXQvbnBtL2xlYWZsZXRAMS40LjAvZGlzdC9sZWFmbGV0LmpzIj48L3NjcmlwdD4KICAgIDxzY3JpcHQgc3JjPSJodHRwczovL2NvZGUuanF1ZXJ5LmNvbS9qcXVlcnktMS4xMi40Lm1pbi5qcyI+PC9zY3JpcHQ+CiAgICA8c2NyaXB0IHNyYz0iaHR0cHM6Ly9tYXhjZG4uYm9vdHN0cmFwY2RuLmNvbS9ib290c3RyYXAvMy4yLjAvanMvYm9vdHN0cmFwLm1pbi5qcyI+PC9zY3JpcHQ+CiAgICA8c2NyaXB0IHNyYz0iaHR0cHM6Ly9jZG5qcy5jbG91ZGZsYXJlLmNvbS9hamF4L2xpYnMvTGVhZmxldC5hd2Vzb21lLW1hcmtlcnMvMi4wLjIvbGVhZmxldC5hd2Vzb21lLW1hcmtlcnMuanMiPjwvc2NyaXB0PgogICAgPGxpbmsgcmVsPSJzdHlsZXNoZWV0IiBocmVmPSJodHRwczovL2Nkbi5qc2RlbGl2ci5uZXQvbnBtL2xlYWZsZXRAMS40LjAvZGlzdC9sZWFmbGV0LmNzcyIvPgogICAgPGxpbmsgcmVsPSJzdHlsZXNoZWV0IiBocmVmPSJodHRwczovL21heGNkbi5ib290c3RyYXBjZG4uY29tL2Jvb3RzdHJhcC8zLjIuMC9jc3MvYm9vdHN0cmFwLm1pbi5jc3MiLz4KICAgIDxsaW5rIHJlbD0ic3R5bGVzaGVldCIgaHJlZj0iaHR0cHM6Ly9tYXhjZG4uYm9vdHN0cmFwY2RuLmNvbS9ib290c3RyYXAvMy4yLjAvY3NzL2Jvb3RzdHJhcC10aGVtZS5taW4uY3NzIi8+CiAgICA8bGluayByZWw9InN0eWxlc2hlZXQiIGhyZWY9Imh0dHBzOi8vbWF4Y2RuLmJvb3RzdHJhcGNkbi5jb20vZm9udC1hd2Vzb21lLzQuNi4zL2Nzcy9mb250LWF3ZXNvbWUubWluLmNzcyIvPgogICAgPGxpbmsgcmVsPSJzdHlsZXNoZWV0IiBocmVmPSJodHRwczovL2NkbmpzLmNsb3VkZmxhcmUuY29tL2FqYXgvbGlicy9MZWFmbGV0LmF3ZXNvbWUtbWFya2Vycy8yLjAuMi9sZWFmbGV0LmF3ZXNvbWUtbWFya2Vycy5jc3MiLz4KICAgIDxsaW5rIHJlbD0ic3R5bGVzaGVldCIgaHJlZj0iaHR0cHM6Ly9yYXdjZG4uZ2l0aGFjay5jb20vcHl0aG9uLXZpc3VhbGl6YXRpb24vZm9saXVtL21hc3Rlci9mb2xpdW0vdGVtcGxhdGVzL2xlYWZsZXQuYXdlc29tZS5yb3RhdGUuY3NzIi8+CiAgICA8c3R5bGU+aHRtbCwgYm9keSB7d2lkdGg6IDEwMCU7aGVpZ2h0OiAxMDAlO21hcmdpbjogMDtwYWRkaW5nOiAwO308L3N0eWxlPgogICAgPHN0eWxlPiNtYXAge3Bvc2l0aW9uOmFic29sdXRlO3RvcDowO2JvdHRvbTowO3JpZ2h0OjA7bGVmdDowO308L3N0eWxlPgogICAgCiAgICA8bWV0YSBuYW1lPSJ2aWV3cG9ydCIgY29udGVudD0id2lkdGg9ZGV2aWNlLXdpZHRoLAogICAgICAgIGluaXRpYWwtc2NhbGU9MS4wLCBtYXhpbXVtLXNjYWxlPTEuMCwgdXNlci1zY2FsYWJsZT1ubyIgLz4KICAgIDxzdHlsZT4jbWFwX2QwNDQzY2U2NmUzYjRkMWViNmYwYWVlYWY1ZWIxNGM4IHsKICAgICAgICBwb3NpdGlvbjogcmVsYXRpdmU7CiAgICAgICAgd2lkdGg6IDEwMC4wJTsKICAgICAgICBoZWlnaHQ6IDEwMC4wJTsKICAgICAgICBsZWZ0OiAwLjAlOwogICAgICAgIHRvcDogMC4wJTsKICAgICAgICB9CiAgICA8L3N0eWxlPgo8L2hlYWQ+Cjxib2R5PiAgICAKICAgIAogICAgPGRpdiBjbGFzcz0iZm9saXVtLW1hcCIgaWQ9Im1hcF9kMDQ0M2NlNjZlM2I0ZDFlYjZmMGFlZWFmNWViMTRjOCIgPjwvZGl2Pgo8L2JvZHk+CjxzY3JpcHQ+ICAgIAogICAgCiAgICAKICAgICAgICB2YXIgYm91bmRzID0gbnVsbDsKICAgIAoKICAgIHZhciBtYXBfZDA0NDNjZTY2ZTNiNGQxZWI2ZjBhZWVhZjVlYjE0YzggPSBMLm1hcCgKICAgICAgICAnbWFwX2QwNDQzY2U2NmUzYjRkMWViNmYwYWVlYWY1ZWIxNGM4JywgewogICAgICAgIGNlbnRlcjogWzQzLjY1MjksIC03OS4zODQ5XSwKICAgICAgICB6b29tOiAxMCwKICAgICAgICBtYXhCb3VuZHM6IGJvdW5kcywKICAgICAgICBsYXllcnM6IFtdLAogICAgICAgIHdvcmxkQ29weUp1bXA6IGZhbHNlLAogICAgICAgIGNyczogTC5DUlMuRVBTRzM4NTcsCiAgICAgICAgem9vbUNvbnRyb2w6IHRydWUsCiAgICAgICAgfSk7CgoKICAgIAogICAgdmFyIHRpbGVfbGF5ZXJfODA1YjU3ZWY5NWVmNDQ4ZTliMDIzYTRjMmNhYzc0MWIgPSBMLnRpbGVMYXllcigKICAgICAgICAnaHR0cHM6Ly97c30udGlsZS5vcGVuc3RyZWV0bWFwLm9yZy97en0ve3h9L3t5fS5wbmcnLAogICAgICAgIHsKICAgICAgICAiYXR0cmlidXRpb24iOiBudWxsLAogICAgICAgICJkZXRlY3RSZXRpbmEiOiBmYWxzZSwKICAgICAgICAibWF4TmF0aXZlWm9vbSI6IDE4LAogICAgICAgICJtYXhab29tIjogMTgsCiAgICAgICAgIm1pblpvb20iOiAwLAogICAgICAgICJub1dyYXAiOiBmYWxzZSwKICAgICAgICAib3BhY2l0eSI6IDEsCiAgICAgICAgInN1YmRvbWFpbnMiOiAiYWJjIiwKICAgICAgICAidG1zIjogZmFsc2UKfSkuYWRkVG8obWFwX2QwNDQzY2U2NmUzYjRkMWViNmYwYWVlYWY1ZWIxNGM4KTsKICAgIAogICAgICAgICAgICB2YXIgY2lyY2xlX21hcmtlcl83ODk2YjY5ZmMzNjY0Yzg0OWFhOTZlOGJjMDcxYWUyOCA9IEwuY2lyY2xlTWFya2VyKAogICAgICAgICAgICAgICAgWzQzLjY4OTksIC03OS40NTUyXSwKICAgICAgICAgICAgICAgIHsKICAiYnViYmxpbmdNb3VzZUV2ZW50cyI6IHRydWUsCiAgImNvbG9yIjogImJsdWUiLAogICJkYXNoQXJyYXkiOiBudWxsLAogICJkYXNoT2Zmc2V0IjogbnVsbCwKICAiZmlsbCI6IHRydWUsCiAgImZpbGxDb2xvciI6ICIjMzE4NmNjIiwKICAiZmlsbE9wYWNpdHkiOiAwLjcsCiAgImZpbGxSdWxlIjogImV2ZW5vZGQiLAogICJsaW5lQ2FwIjogInJvdW5kIiwKICAibGluZUpvaW4iOiAicm91bmQiLAogICJvcGFjaXR5IjogMS4wLAogICJyYWRpdXMiOiA1LAogICJzdHJva2UiOiB0cnVlLAogICJ3ZWlnaHQiOiAzCn0KICAgICAgICAgICAgICAgICkKICAgICAgICAgICAgICAgIC5hZGRUbyhtYXBfZDA0NDNjZTY2ZTNiNGQxZWI2ZjBhZWVhZjVlYjE0YzgpOwogICAgICAgICAgICAKICAgIAogICAgICAgICAgICB2YXIgcG9wdXBfZWI1NGI2MzA1MzFjNGU5MTk5Nzk3ZTRkMjQ0Y2I3OWMgPSBMLnBvcHVwKHttYXhXaWR0aDogJzEwMCUnCiAgICAgICAgICAgIAogICAgICAgICAgICB9KTsKCiAgICAgICAgICAgIAogICAgICAgICAgICAgICAgdmFyIGh0bWxfZDQyNzcxYTUzYzQ1NGIzMGIxMjIxMDhkYjU1YWYzMmYgPSAkKGA8ZGl2IGlkPSJodG1sX2Q0Mjc3MWE1M2M0NTRiMzBiMTIyMTA4ZGI1NWFmMzJmIiBzdHlsZT0id2lkdGg6IDEwMC4wJTsgaGVpZ2h0OiAxMDAuMCU7Ij5DYWxlZG9uaWEtRmFpcmJhbms8L2Rpdj5gKVswXTsKICAgICAgICAgICAgICAgIHBvcHVwX2ViNTRiNjMwNTMxYzRlOTE5OTc5N2U0ZDI0NGNiNzljLnNldENvbnRlbnQoaHRtbF9kNDI3NzFhNTNjNDU0YjMwYjEyMjEwOGRiNTVhZjMyZik7CiAgICAgICAgICAgIAoKICAgICAgICAgICAgY2lyY2xlX21hcmtlcl83ODk2YjY5ZmMzNjY0Yzg0OWFhOTZlOGJjMDcxYWUyOC5iaW5kUG9wdXAocG9wdXBfZWI1NGI2MzA1MzFjNGU5MTk5Nzk3ZTRkMjQ0Y2I3OWMpCiAgICAgICAgICAgIDsKCiAgICAgICAgICAgIAogICAgICAgIAogICAgCiAgICAgICAgICAgIHZhciBjaXJjbGVfbWFya2VyX2U0ZDEyZjRkZTQ0ODRmNGI4MzdhNjgwYjVkNjc2ZDA5ID0gTC5jaXJjbGVNYXJrZXIoCiAgICAgICAgICAgICAgICBbNDMuNjcxNiwgLTc5LjQ1NzddLAogICAgICAgICAgICAgICAgewogICJidWJibGluZ01vdXNlRXZlbnRzIjogdHJ1ZSwKICAiY29sb3IiOiAiYmx1ZSIsCiAgImRhc2hBcnJheSI6IG51bGwsCiAgImRhc2hPZmZzZXQiOiBudWxsLAogICJmaWxsIjogdHJ1ZSwKICAiZmlsbENvbG9yIjogIiMzMTg2Y2MiLAogICJmaWxsT3BhY2l0eSI6IDAuNywKICAiZmlsbFJ1bGUiOiAiZXZlbm9kZCIsCiAgImxpbmVDYXAiOiAicm91bmQiLAogICJsaW5lSm9pbiI6ICJyb3VuZCIsCiAgIm9wYWNpdHkiOiAxLjAsCiAgInJhZGl1cyI6IDUsCiAgInN0cm9rZSI6IHRydWUsCiAgIndlaWdodCI6IDMKfQogICAgICAgICAgICAgICAgKQogICAgICAgICAgICAgICAgLmFkZFRvKG1hcF9kMDQ0M2NlNjZlM2I0ZDFlYjZmMGFlZWFmNWViMTRjOCk7CiAgICAgICAgICAgIAogICAgCiAgICAgICAgICAgIHZhciBwb3B1cF8xZmUzMTIwOTI3M2E0YTY1YmNjOTM0NDg2NGVlMWE1ZCA9IEwucG9wdXAoe21heFdpZHRoOiAnMTAwJScKICAgICAgICAgICAgCiAgICAgICAgICAgIH0pOwoKICAgICAgICAgICAgCiAgICAgICAgICAgICAgICB2YXIgaHRtbF80NTc3ZmEyODgyNmY0MTc1YWZkMzY1N2ZlYTkxMjQ5OSA9ICQoYDxkaXYgaWQ9Imh0bWxfNDU3N2ZhMjg4MjZmNDE3NWFmZDM2NTdmZWE5MTI0OTkiIHN0eWxlPSJ3aWR0aDogMTAwLjAlOyBoZWlnaHQ6IDEwMC4wJTsiPldlc3Rvbi1QZWxsYW0gUGFyazwvZGl2PmApWzBdOwogICAgICAgICAgICAgICAgcG9wdXBfMWZlMzEyMDkyNzNhNGE2NWJjYzkzNDQ4NjRlZTFhNWQuc2V0Q29udGVudChodG1sXzQ1NzdmYTI4ODI2ZjQxNzVhZmQzNjU3ZmVhOTEyNDk5KTsKICAgICAgICAgICAgCgogICAgICAgICAgICBjaXJjbGVfbWFya2VyX2U0ZDEyZjRkZTQ0ODRmNGI4MzdhNjgwYjVkNjc2ZDA5LmJpbmRQb3B1cChwb3B1cF8xZmUzMTIwOTI3M2E0YTY1YmNjOTM0NDg2NGVlMWE1ZCkKICAgICAgICAgICAgOwoKICAgICAgICAgICAgCiAgICAgICAgCiAgICAKICAgICAgICAgICAgdmFyIGNpcmNsZV9tYXJrZXJfNmI0OWYxMjBiY2YwNGU2YzgwZTdjZjRiYjU2NmQyYTMgPSBMLmNpcmNsZU1hcmtlcigKICAgICAgICAgICAgICAgIFs0My43MjM4LCAtNzkuMzg4Nl0sCiAgICAgICAgICAgICAgICB7CiAgImJ1YmJsaW5nTW91c2VFdmVudHMiOiB0cnVlLAogICJjb2xvciI6ICJibHVlIiwKICAiZGFzaEFycmF5IjogbnVsbCwKICAiZGFzaE9mZnNldCI6IG51bGwsCiAgImZpbGwiOiB0cnVlLAogICJmaWxsQ29sb3IiOiAiIzMxODZjYyIsCiAgImZpbGxPcGFjaXR5IjogMC43LAogICJmaWxsUnVsZSI6ICJldmVub2RkIiwKICAibGluZUNhcCI6ICJyb3VuZCIsCiAgImxpbmVKb2luIjogInJvdW5kIiwKICAib3BhY2l0eSI6IDEuMCwKICAicmFkaXVzIjogNSwKICAic3Ryb2tlIjogdHJ1ZSwKICAid2VpZ2h0IjogMwp9CiAgICAgICAgICAgICAgICApCiAgICAgICAgICAgICAgICAuYWRkVG8obWFwX2QwNDQzY2U2NmUzYjRkMWViNmYwYWVlYWY1ZWIxNGM4KTsKICAgICAgICAgICAgCiAgICAKICAgICAgICAgICAgdmFyIHBvcHVwX2M5MDRlYzUzOGQwZjQyNDNiYmJmMGRmOGU1ZTUzMjlmID0gTC5wb3B1cCh7bWF4V2lkdGg6ICcxMDAlJwogICAgICAgICAgICAKICAgICAgICAgICAgfSk7CgogICAgICAgICAgICAKICAgICAgICAgICAgICAgIHZhciBodG1sX2U0ZGZjZGZhN2QyNjQwZmVhYmQ5OTU5ZjM5MjJhMTg1ID0gJChgPGRpdiBpZD0iaHRtbF9lNGRmY2RmYTdkMjY0MGZlYWJkOTk1OWYzOTIyYTE4NSIgc3R5bGU9IndpZHRoOiAxMDAuMCU7IGhlaWdodDogMTAwLjAlOyI+TGF3cmVuY2UgUGFyayBOb3J0aDwvZGl2PmApWzBdOwogICAgICAgICAgICAgICAgcG9wdXBfYzkwNGVjNTM4ZDBmNDI0M2JiYmYwZGY4ZTVlNTMyOWYuc2V0Q29udGVudChodG1sX2U0ZGZjZGZhN2QyNjQwZmVhYmQ5OTU5ZjM5MjJhMTg1KTsKICAgICAgICAgICAgCgogICAgICAgICAgICBjaXJjbGVfbWFya2VyXzZiNDlmMTIwYmNmMDRlNmM4MGU3Y2Y0YmI1NjZkMmEzLmJpbmRQb3B1cChwb3B1cF9jOTA0ZWM1MzhkMGY0MjQzYmJiZjBkZjhlNWU1MzI5ZikKICAgICAgICAgICAgOwoKICAgICAgICAgICAgCiAgICAgICAgCiAgICAKICAgICAgICAgICAgdmFyIGNpcmNsZV9tYXJrZXJfYjMxMzY2MTcwNjQwNDE2ZmFmNDhlMTkyZjcyZTQxZTggPSBMLmNpcmNsZU1hcmtlcigKICAgICAgICAgICAgICAgIFs0My43MDUxLCAtNzkuMzg0OF0sCiAgICAgICAgICAgICAgICB7CiAgImJ1YmJsaW5nTW91c2VFdmVudHMiOiB0cnVlLAogICJjb2xvciI6ICJibHVlIiwKICAiZGFzaEFycmF5IjogbnVsbCwKICAiZGFzaE9mZnNldCI6IG51bGwsCiAgImZpbGwiOiB0cnVlLAogICJmaWxsQ29sb3IiOiAiIzMxODZjYyIsCiAgImZpbGxPcGFjaXR5IjogMC43LAogICJmaWxsUnVsZSI6ICJldmVub2RkIiwKICAibGluZUNhcCI6ICJyb3VuZCIsCiAgImxpbmVKb2luIjogInJvdW5kIiwKICAib3BhY2l0eSI6IDEuMCwKICAicmFkaXVzIjogNSwKICAic3Ryb2tlIjogdHJ1ZSwKICAid2VpZ2h0IjogMwp9CiAgICAgICAgICAgICAgICApCiAgICAgICAgICAgICAgICAuYWRkVG8obWFwX2QwNDQzY2U2NmUzYjRkMWViNmYwYWVlYWY1ZWIxNGM4KTsKICAgICAgICAgICAgCiAgICAKICAgICAgICAgICAgdmFyIHBvcHVwXzA3NjU5ZTczOGRjZjRkNGE5M2FiZmM4YzUwNjg3OTM0ID0gTC5wb3B1cCh7bWF4V2lkdGg6ICcxMDAlJwogICAgICAgICAgICAKICAgICAgICAgICAgfSk7CgogICAgICAgICAgICAKICAgICAgICAgICAgICAgIHZhciBodG1sX2FkZmUzNzM0MWM3ZDQ4N2RhN2E4MTViYjdkN2U2ZTdjID0gJChgPGRpdiBpZD0iaHRtbF9hZGZlMzczNDFjN2Q0ODdkYTdhODE1YmI3ZDdlNmU3YyIgc3R5bGU9IndpZHRoOiAxMDAuMCU7IGhlaWdodDogMTAwLjAlOyI+TW91bnQgUGxlYXNhbnQgRWFzdDwvZGl2PmApWzBdOwogICAgICAgICAgICAgICAgcG9wdXBfMDc2NTllNzM4ZGNmNGQ0YTkzYWJmYzhjNTA2ODc5MzQuc2V0Q29udGVudChodG1sX2FkZmUzNzM0MWM3ZDQ4N2RhN2E4MTViYjdkN2U2ZTdjKTsKICAgICAgICAgICAgCgogICAgICAgICAgICBjaXJjbGVfbWFya2VyX2IzMTM2NjE3MDY0MDQxNmZhZjQ4ZTE5MmY3MmU0MWU4LmJpbmRQb3B1cChwb3B1cF8wNzY1OWU3MzhkY2Y0ZDRhOTNhYmZjOGM1MDY4NzkzNCkKICAgICAgICAgICAgOwoKICAgICAgICAgICAgCiAgICAgICAgCiAgICAKICAgICAgICAgICAgdmFyIGNpcmNsZV9tYXJrZXJfMmY1YzI4ZjIzYjkyNDk5NWFhMTExYjFlODJiYWM4NTkgPSBMLmNpcmNsZU1hcmtlcigKICAgICAgICAgICAgICAgIFs0My44MDQ5LCAtNzkuMzU0N10sCiAgICAgICAgICAgICAgICB7CiAgImJ1YmJsaW5nTW91c2VFdmVudHMiOiB0cnVlLAogICJjb2xvciI6ICJibHVlIiwKICAiZGFzaEFycmF5IjogbnVsbCwKICAiZGFzaE9mZnNldCI6IG51bGwsCiAgImZpbGwiOiB0cnVlLAogICJmaWxsQ29sb3IiOiAiIzMxODZjYyIsCiAgImZpbGxPcGFjaXR5IjogMC43LAogICJmaWxsUnVsZSI6ICJldmVub2RkIiwKICAibGluZUNhcCI6ICJyb3VuZCIsCiAgImxpbmVKb2luIjogInJvdW5kIiwKICAib3BhY2l0eSI6IDEuMCwKICAicmFkaXVzIjogNSwKICAic3Ryb2tlIjogdHJ1ZSwKICAid2VpZ2h0IjogMwp9CiAgICAgICAgICAgICAgICApCiAgICAgICAgICAgICAgICAuYWRkVG8obWFwX2QwNDQzY2U2NmUzYjRkMWViNmYwYWVlYWY1ZWIxNGM4KTsKICAgICAgICAgICAgCiAgICAKICAgICAgICAgICAgdmFyIHBvcHVwX2YwYTM0MGRlZWZkNjQyYTJhY2M4MTBkOGFkMzlkNTM3ID0gTC5wb3B1cCh7bWF4V2lkdGg6ICcxMDAlJwogICAgICAgICAgICAKICAgICAgICAgICAgfSk7CgogICAgICAgICAgICAKICAgICAgICAgICAgICAgIHZhciBodG1sXzFlNTMwNzA3MjZkNTQyM2U5ZmU5ZmVmOTc5ODkwODUwID0gJChgPGRpdiBpZD0iaHRtbF8xZTUzMDcwNzI2ZDU0MjNlOWZlOWZlZjk3OTg5MDg1MCIgc3R5bGU9IndpZHRoOiAxMDAuMCU7IGhlaWdodDogMTAwLjAlOyI+SGlsbGNyZXN0IFZpbGxhZ2U8L2Rpdj5gKVswXTsKICAgICAgICAgICAgICAgIHBvcHVwX2YwYTM0MGRlZWZkNjQyYTJhY2M4MTBkOGFkMzlkNTM3LnNldENvbnRlbnQoaHRtbF8xZTUzMDcwNzI2ZDU0MjNlOWZlOWZlZjk3OTg5MDg1MCk7CiAgICAgICAgICAgIAoKICAgICAgICAgICAgY2lyY2xlX21hcmtlcl8yZjVjMjhmMjNiOTI0OTk1YWExMTFiMWU4MmJhYzg1OS5iaW5kUG9wdXAocG9wdXBfZjBhMzQwZGVlZmQ2NDJhMmFjYzgxMGQ4YWQzOWQ1MzcpCiAgICAgICAgICAgIDsKCiAgICAgICAgICAgIAogICAgICAgIAogICAgCiAgICAgICAgICAgIHZhciBjaXJjbGVfbWFya2VyX2JjM2E4NDU5MjcyMDQ4YWI4NWM3ZmEwZjY5YzFmM2JlID0gTC5jaXJjbGVNYXJrZXIoCiAgICAgICAgICAgICAgICBbNDMuNzMwMywgLTc5LjQxMTRdLAogICAgICAgICAgICAgICAgewogICJidWJibGluZ01vdXNlRXZlbnRzIjogdHJ1ZSwKICAiY29sb3IiOiAiYmx1ZSIsCiAgImRhc2hBcnJheSI6IG51bGwsCiAgImRhc2hPZmZzZXQiOiBudWxsLAogICJmaWxsIjogdHJ1ZSwKICAiZmlsbENvbG9yIjogIiMzMTg2Y2MiLAogICJmaWxsT3BhY2l0eSI6IDAuNywKICAiZmlsbFJ1bGUiOiAiZXZlbm9kZCIsCiAgImxpbmVDYXAiOiAicm91bmQiLAogICJsaW5lSm9pbiI6ICJyb3VuZCIsCiAgIm9wYWNpdHkiOiAxLjAsCiAgInJhZGl1cyI6IDUsCiAgInN0cm9rZSI6IHRydWUsCiAgIndlaWdodCI6IDMKfQogICAgICAgICAgICAgICAgKQogICAgICAgICAgICAgICAgLmFkZFRvKG1hcF9kMDQ0M2NlNjZlM2I0ZDFlYjZmMGFlZWFmNWViMTRjOCk7CiAgICAgICAgICAgIAogICAgCiAgICAgICAgICAgIHZhciBwb3B1cF8yNjNhNjU2ZDQ2NTA0ZWRmYmMwOGJjMTg5NDc1M2QwZSA9IEwucG9wdXAoe21heFdpZHRoOiAnMTAwJScKICAgICAgICAgICAgCiAgICAgICAgICAgIH0pOwoKICAgICAgICAgICAgCiAgICAgICAgICAgICAgICB2YXIgaHRtbF84OTc4NTZiN2JjM2I0MDMwYWE0ZmE1MmU1NzFlYjRlMCA9ICQoYDxkaXYgaWQ9Imh0bWxfODk3ODU2YjdiYzNiNDAzMGFhNGZhNTJlNTcxZWI0ZTAiIHN0eWxlPSJ3aWR0aDogMTAwLjAlOyBoZWlnaHQ6IDEwMC4wJTsiPkJlZGZvcmQgUGFyay1Ob3J0b3duPC9kaXY+YClbMF07CiAgICAgICAgICAgICAgICBwb3B1cF8yNjNhNjU2ZDQ2NTA0ZWRmYmMwOGJjMTg5NDc1M2QwZS5zZXRDb250ZW50KGh0bWxfODk3ODU2YjdiYzNiNDAzMGFhNGZhNTJlNTcxZWI0ZTApOwogICAgICAgICAgICAKCiAgICAgICAgICAgIGNpcmNsZV9tYXJrZXJfYmMzYTg0NTkyNzIwNDhhYjg1YzdmYTBmNjljMWYzYmUuYmluZFBvcHVwKHBvcHVwXzI2M2E2NTZkNDY1MDRlZGZiYzA4YmMxODk0NzUzZDBlKQogICAgICAgICAgICA7CgogICAgICAgICAgICAKICAgICAgICAKICAgIAogICAgICAgICAgICB2YXIgY2lyY2xlX21hcmtlcl83OTMwZWMzN2UxMWM0MGIxOTRjMzQwYWNjNjhhODFlMiA9IEwuY2lyY2xlTWFya2VyKAogICAgICAgICAgICAgICAgWzQzLjY2OTgsIC03OS4zNTU0XSwKICAgICAgICAgICAgICAgIHsKICAiYnViYmxpbmdNb3VzZUV2ZW50cyI6IHRydWUsCiAgImNvbG9yIjogImJsdWUiLAogICJkYXNoQXJyYXkiOiBudWxsLAogICJkYXNoT2Zmc2V0IjogbnVsbCwKICAiZmlsbCI6IHRydWUsCiAgImZpbGxDb2xvciI6ICIjMzE4NmNjIiwKICAiZmlsbE9wYWNpdHkiOiAwLjcsCiAgImZpbGxSdWxlIjogImV2ZW5vZGQiLAogICJsaW5lQ2FwIjogInJvdW5kIiwKICAibGluZUpvaW4iOiAicm91bmQiLAogICJvcGFjaXR5IjogMS4wLAogICJyYWRpdXMiOiA1LAogICJzdHJva2UiOiB0cnVlLAogICJ3ZWlnaHQiOiAzCn0KICAgICAgICAgICAgICAgICkKICAgICAgICAgICAgICAgIC5hZGRUbyhtYXBfZDA0NDNjZTY2ZTNiNGQxZWI2ZjBhZWVhZjVlYjE0YzgpOwogICAgICAgICAgICAKICAgIAogICAgICAgICAgICB2YXIgcG9wdXBfNmY2OGY5YzMzMTUxNDE3ODhlOGY1YThlODAzZDQ5Y2IgPSBMLnBvcHVwKHttYXhXaWR0aDogJzEwMCUnCiAgICAgICAgICAgIAogICAgICAgICAgICB9KTsKCiAgICAgICAgICAgIAogICAgICAgICAgICAgICAgdmFyIGh0bWxfMzg1MjZjZDMwYTU4NGM3NTkwNTYxNjVhMjFhNTlkOWEgPSAkKGA8ZGl2IGlkPSJodG1sXzM4NTI2Y2QzMGE1ODRjNzU5MDU2MTY1YTIxYTU5ZDlhIiBzdHlsZT0id2lkdGg6IDEwMC4wJTsgaGVpZ2h0OiAxMDAuMCU7Ij5Ob3J0aCBSaXZlcmRhbGU8L2Rpdj5gKVswXTsKICAgICAgICAgICAgICAgIHBvcHVwXzZmNjhmOWMzMzE1MTQxNzg4ZThmNWE4ZTgwM2Q0OWNiLnNldENvbnRlbnQoaHRtbF8zODUyNmNkMzBhNTg0Yzc1OTA1NjE2NWEyMWE1OWQ5YSk7CiAgICAgICAgICAgIAoKICAgICAgICAgICAgY2lyY2xlX21hcmtlcl83OTMwZWMzN2UxMWM0MGIxOTRjMzQwYWNjNjhhODFlMi5iaW5kUG9wdXAocG9wdXBfNmY2OGY5YzMzMTUxNDE3ODhlOGY1YThlODAzZDQ5Y2IpCiAgICAgICAgICAgIDsKCiAgICAgICAgICAgIAogICAgICAgIAogICAgCiAgICAgICAgICAgIHZhciBjaXJjbGVfbWFya2VyX2E2Nzg0MjMzNDQ5MzRhMTdiMWRhOGY0NjhiOWVkNmVmID0gTC5jaXJjbGVNYXJrZXIoCiAgICAgICAgICAgICAgICBbNDMuNzMwOCwgLTc5LjI3MzldLAogICAgICAgICAgICAgICAgewogICJidWJibGluZ01vdXNlRXZlbnRzIjogdHJ1ZSwKICAiY29sb3IiOiAiYmx1ZSIsCiAgImRhc2hBcnJheSI6IG51bGwsCiAgImRhc2hPZmZzZXQiOiBudWxsLAogICJmaWxsIjogdHJ1ZSwKICAiZmlsbENvbG9yIjogIiMzMTg2Y2MiLAogICJmaWxsT3BhY2l0eSI6IDAuNywKICAiZmlsbFJ1bGUiOiAiZXZlbm9kZCIsCiAgImxpbmVDYXAiOiAicm91bmQiLAogICJsaW5lSm9pbiI6ICJyb3VuZCIsCiAgIm9wYWNpdHkiOiAxLjAsCiAgInJhZGl1cyI6IDUsCiAgInN0cm9rZSI6IHRydWUsCiAgIndlaWdodCI6IDMKfQogICAgICAgICAgICAgICAgKQogICAgICAgICAgICAgICAgLmFkZFRvKG1hcF9kMDQ0M2NlNjZlM2I0ZDFlYjZmMGFlZWFmNWViMTRjOCk7CiAgICAgICAgICAgIAogICAgCiAgICAgICAgICAgIHZhciBwb3B1cF8wMDlkYzkzNGM5OTE0MGQxYjkyMTZjOGI4MmRkMGU4MCA9IEwucG9wdXAoe21heFdpZHRoOiAnMTAwJScKICAgICAgICAgICAgCiAgICAgICAgICAgIH0pOwoKICAgICAgICAgICAgCiAgICAgICAgICAgICAgICB2YXIgaHRtbF9kYmE0ZjliNDA3ZDQ0NmY0ODMyMTY2OTU0Nzg0NDMzYSA9ICQoYDxkaXYgaWQ9Imh0bWxfZGJhNGY5YjQwN2Q0NDZmNDgzMjE2Njk1NDc4NDQzM2EiIHN0eWxlPSJ3aWR0aDogMTAwLjAlOyBoZWlnaHQ6IDEwMC4wJTsiPklvbnZpZXc8L2Rpdj5gKVswXTsKICAgICAgICAgICAgICAgIHBvcHVwXzAwOWRjOTM0Yzk5MTQwZDFiOTIxNmM4YjgyZGQwZTgwLnNldENvbnRlbnQoaHRtbF9kYmE0ZjliNDA3ZDQ0NmY0ODMyMTY2OTU0Nzg0NDMzYSk7CiAgICAgICAgICAgIAoKICAgICAgICAgICAgY2lyY2xlX21hcmtlcl9hNjc4NDIzMzQ0OTM0YTE3YjFkYThmNDY4YjllZDZlZi5iaW5kUG9wdXAocG9wdXBfMDA5ZGM5MzRjOTkxNDBkMWI5MjE2YzhiODJkZDBlODApCiAgICAgICAgICAgIDsKCiAgICAgICAgICAgIAogICAgICAgIAogICAgCiAgICAgICAgICAgIHZhciBjaXJjbGVfbWFya2VyXzUxMjAzNzI1NGRmMzQ4MjBiNjI0MzQ0NDgxOWFmMjNhID0gTC5jaXJjbGVNYXJrZXIoCiAgICAgICAgICAgICAgICBbNDMuNzY2NCwgLTc5LjQ3NzRdLAogICAgICAgICAgICAgICAgewogICJidWJibGluZ01vdXNlRXZlbnRzIjogdHJ1ZSwKICAiY29sb3IiOiAiYmx1ZSIsCiAgImRhc2hBcnJheSI6IG51bGwsCiAgImRhc2hPZmZzZXQiOiBudWxsLAogICJmaWxsIjogdHJ1ZSwKICAiZmlsbENvbG9yIjogIiMzMTg2Y2MiLAogICJmaWxsT3BhY2l0eSI6IDAuNywKICAiZmlsbFJ1bGUiOiAiZXZlbm9kZCIsCiAgImxpbmVDYXAiOiAicm91bmQiLAogICJsaW5lSm9pbiI6ICJyb3VuZCIsCiAgIm9wYWNpdHkiOiAxLjAsCiAgInJhZGl1cyI6IDUsCiAgInN0cm9rZSI6IHRydWUsCiAgIndlaWdodCI6IDMKfQogICAgICAgICAgICAgICAgKQogICAgICAgICAgICAgICAgLmFkZFRvKG1hcF9kMDQ0M2NlNjZlM2I0ZDFlYjZmMGFlZWFmNWViMTRjOCk7CiAgICAgICAgICAgIAogICAgCiAgICAgICAgICAgIHZhciBwb3B1cF9hNDVkZTI3ZmExNjE0NjY5OTVlMmQ0YWNkYTU5OGM3NyA9IEwucG9wdXAoe21heFdpZHRoOiAnMTAwJScKICAgICAgICAgICAgCiAgICAgICAgICAgIH0pOwoKICAgICAgICAgICAgCiAgICAgICAgICAgICAgICB2YXIgaHRtbF9iNTAxOGU1NDQxNTg0NGJhOTE0NTIzNWVmNzNhNzk4NyA9ICQoYDxkaXYgaWQ9Imh0bWxfYjUwMThlNTQ0MTU4NDRiYTkxNDUyMzVlZjczYTc5ODciIHN0eWxlPSJ3aWR0aDogMTAwLjAlOyBoZWlnaHQ6IDEwMC4wJTsiPllvcmsgVW5pdmVyc2l0eSBIZWlnaHRzPC9kaXY+YClbMF07CiAgICAgICAgICAgICAgICBwb3B1cF9hNDVkZTI3ZmExNjE0NjY5OTVlMmQ0YWNkYTU5OGM3Ny5zZXRDb250ZW50KGh0bWxfYjUwMThlNTQ0MTU4NDRiYTkxNDUyMzVlZjczYTc5ODcpOwogICAgICAgICAgICAKCiAgICAgICAgICAgIGNpcmNsZV9tYXJrZXJfNTEyMDM3MjU0ZGYzNDgyMGI2MjQzNDQ0ODE5YWYyM2EuYmluZFBvcHVwKHBvcHVwX2E0NWRlMjdmYTE2MTQ2Njk5NWUyZDRhY2RhNTk4Yzc3KQogICAgICAgICAgICA7CgogICAgICAgICAgICAKICAgICAgICAKICAgIAogICAgICAgICAgICB2YXIgY2lyY2xlX21hcmtlcl8wNmU2MmU0NzZjMWQ0NmIxOTc2YjJjMmEwMzVlODJiMSA9IEwuY2lyY2xlTWFya2VyKAogICAgICAgICAgICAgICAgWzQzLjY1MzYsIC03OS40NjUzXSwKICAgICAgICAgICAgICAgIHsKICAiYnViYmxpbmdNb3VzZUV2ZW50cyI6IHRydWUsCiAgImNvbG9yIjogImJsdWUiLAogICJkYXNoQXJyYXkiOiBudWxsLAogICJkYXNoT2Zmc2V0IjogbnVsbCwKICAiZmlsbCI6IHRydWUsCiAgImZpbGxDb2xvciI6ICIjMzE4NmNjIiwKICAiZmlsbE9wYWNpdHkiOiAwLjcsCiAgImZpbGxSdWxlIjogImV2ZW5vZGQiLAogICJsaW5lQ2FwIjogInJvdW5kIiwKICAibGluZUpvaW4iOiAicm91bmQiLAogICJvcGFjaXR5IjogMS4wLAogICJyYWRpdXMiOiA1LAogICJzdHJva2UiOiB0cnVlLAogICJ3ZWlnaHQiOiAzCn0KICAgICAgICAgICAgICAgICkKICAgICAgICAgICAgICAgIC5hZGRUbyhtYXBfZDA0NDNjZTY2ZTNiNGQxZWI2ZjBhZWVhZjVlYjE0YzgpOwogICAgICAgICAgICAKICAgIAogICAgICAgICAgICB2YXIgcG9wdXBfMGNmNTBjYWQ5YzAyNDE0NTlhNmFlYjUzYzM1OTZmYjYgPSBMLnBvcHVwKHttYXhXaWR0aDogJzEwMCUnCiAgICAgICAgICAgIAogICAgICAgICAgICB9KTsKCiAgICAgICAgICAgIAogICAgICAgICAgICAgICAgdmFyIGh0bWxfM2VlMWJkZDViYzVkNGUyYjgzNWJiOWJlMmE2NWNlYzggPSAkKGA8ZGl2IGlkPSJodG1sXzNlZTFiZGQ1YmM1ZDRlMmI4MzViYjliZTJhNjVjZWM4IiBzdHlsZT0id2lkdGg6IDEwMC4wJTsgaGVpZ2h0OiAxMDAuMCU7Ij5IaWdoIFBhcmstU3dhbnNlYTwvZGl2PmApWzBdOwogICAgICAgICAgICAgICAgcG9wdXBfMGNmNTBjYWQ5YzAyNDE0NTlhNmFlYjUzYzM1OTZmYjYuc2V0Q29udGVudChodG1sXzNlZTFiZGQ1YmM1ZDRlMmI4MzViYjliZTJhNjVjZWM4KTsKICAgICAgICAgICAgCgogICAgICAgICAgICBjaXJjbGVfbWFya2VyXzA2ZTYyZTQ3NmMxZDQ2YjE5NzZiMmMyYTAzNWU4MmIxLmJpbmRQb3B1cChwb3B1cF8wY2Y1MGNhZDljMDI0MTQ1OWE2YWViNTNjMzU5NmZiNikKICAgICAgICAgICAgOwoKICAgICAgICAgICAgCiAgICAgICAgCiAgICAKICAgICAgICAgICAgdmFyIGNpcmNsZV9tYXJrZXJfOTEwZWJkNTY3ZTJmNGQ3NjhkODc4Y2JkN2VmZjRlOGEgPSBMLmNpcmNsZU1hcmtlcigKICAgICAgICAgICAgICAgIFs0My42NjcxLCAtNzkuNTI4XSwKICAgICAgICAgICAgICAgIHsKICAiYnViYmxpbmdNb3VzZUV2ZW50cyI6IHRydWUsCiAgImNvbG9yIjogImJsdWUiLAogICJkYXNoQXJyYXkiOiBudWxsLAogICJkYXNoT2Zmc2V0IjogbnVsbCwKICAiZmlsbCI6IHRydWUsCiAgImZpbGxDb2xvciI6ICIjMzE4NmNjIiwKICAiZmlsbE9wYWNpdHkiOiAwLjcsCiAgImZpbGxSdWxlIjogImV2ZW5vZGQiLAogICJsaW5lQ2FwIjogInJvdW5kIiwKICAibGluZUpvaW4iOiAicm91bmQiLAogICJvcGFjaXR5IjogMS4wLAogICJyYWRpdXMiOiA1LAogICJzdHJva2UiOiB0cnVlLAogICJ3ZWlnaHQiOiAzCn0KICAgICAgICAgICAgICAgICkKICAgICAgICAgICAgICAgIC5hZGRUbyhtYXBfZDA0NDNjZTY2ZTNiNGQxZWI2ZjBhZWVhZjVlYjE0YzgpOwogICAgICAgICAgICAKICAgIAogICAgICAgICAgICB2YXIgcG9wdXBfMDc4NzE1YTdjNTM4NDRhMThjN2FiZGMwMjQ0ZTQyNTcgPSBMLnBvcHVwKHttYXhXaWR0aDogJzEwMCUnCiAgICAgICAgICAgIAogICAgICAgICAgICB9KTsKCiAgICAgICAgICAgIAogICAgICAgICAgICAgICAgdmFyIGh0bWxfOTFmMDhkYzYyZDg5NDc4ZDlkOTA1YjdkNTFkMDAzZmIgPSAkKGA8ZGl2IGlkPSJodG1sXzkxZjA4ZGM2MmQ4OTQ3OGQ5ZDkwNWI3ZDUxZDAwM2ZiIiBzdHlsZT0id2lkdGg6IDEwMC4wJTsgaGVpZ2h0OiAxMDAuMCU7Ij5FZGVuYnJpZGdlLUh1bWJlciBWYWxsZXk8L2Rpdj5gKVswXTsKICAgICAgICAgICAgICAgIHBvcHVwXzA3ODcxNWE3YzUzODQ0YTE4YzdhYmRjMDI0NGU0MjU3LnNldENvbnRlbnQoaHRtbF85MWYwOGRjNjJkODk0NzhkOWQ5MDViN2Q1MWQwMDNmYik7CiAgICAgICAgICAgIAoKICAgICAgICAgICAgY2lyY2xlX21hcmtlcl85MTBlYmQ1NjdlMmY0ZDc2OGQ4NzhjYmQ3ZWZmNGU4YS5iaW5kUG9wdXAocG9wdXBfMDc4NzE1YTdjNTM4NDRhMThjN2FiZGMwMjQ0ZTQyNTcpCiAgICAgICAgICAgIDsKCiAgICAgICAgICAgIAogICAgICAgIAogICAgCiAgICAgICAgICAgIHZhciBjaXJjbGVfbWFya2VyX2E5NGRhMmJkNTEyZjRlNzViM2JjM2UxMjk4MjVjN2FjID0gTC5jaXJjbGVNYXJrZXIoCiAgICAgICAgICAgICAgICBbNDMuNjY5OCwgLTc5LjM1NTRdLAogICAgICAgICAgICAgICAgewogICJidWJibGluZ01vdXNlRXZlbnRzIjogdHJ1ZSwKICAiY29sb3IiOiAiYmx1ZSIsCiAgImRhc2hBcnJheSI6IG51bGwsCiAgImRhc2hPZmZzZXQiOiBudWxsLAogICJmaWxsIjogdHJ1ZSwKICAiZmlsbENvbG9yIjogIiMzMTg2Y2MiLAogICJmaWxsT3BhY2l0eSI6IDAuNywKICAiZmlsbFJ1bGUiOiAiZXZlbm9kZCIsCiAgImxpbmVDYXAiOiAicm91bmQiLAogICJsaW5lSm9pbiI6ICJyb3VuZCIsCiAgIm9wYWNpdHkiOiAxLjAsCiAgInJhZGl1cyI6IDUsCiAgInN0cm9rZSI6IHRydWUsCiAgIndlaWdodCI6IDMKfQogICAgICAgICAgICAgICAgKQogICAgICAgICAgICAgICAgLmFkZFRvKG1hcF9kMDQ0M2NlNjZlM2I0ZDFlYjZmMGFlZWFmNWViMTRjOCk7CiAgICAgICAgICAgIAogICAgCiAgICAgICAgICAgIHZhciBwb3B1cF81YzQyODMzYWQ0MzQ0MDcwYmE2ZDE3OTU2MjlmMDRmZCA9IEwucG9wdXAoe21heFdpZHRoOiAnMTAwJScKICAgICAgICAgICAgCiAgICAgICAgICAgIH0pOwoKICAgICAgICAgICAgCiAgICAgICAgICAgICAgICB2YXIgaHRtbF9iMjIyZWYzZDhhNDk0YmJhOTMzOWE3MDk3NDVlZjc5NCA9ICQoYDxkaXYgaWQ9Imh0bWxfYjIyMmVmM2Q4YTQ5NGJiYTkzMzlhNzA5NzQ1ZWY3OTQiIHN0eWxlPSJ3aWR0aDogMTAwLjAlOyBoZWlnaHQ6IDEwMC4wJTsiPlNvdXRoIFJpdmVyZGFsZTwvZGl2PmApWzBdOwogICAgICAgICAgICAgICAgcG9wdXBfNWM0MjgzM2FkNDM0NDA3MGJhNmQxNzk1NjI5ZjA0ZmQuc2V0Q29udGVudChodG1sX2IyMjJlZjNkOGE0OTRiYmE5MzM5YTcwOTc0NWVmNzk0KTsKICAgICAgICAgICAgCgogICAgICAgICAgICBjaXJjbGVfbWFya2VyX2E5NGRhMmJkNTEyZjRlNzViM2JjM2UxMjk4MjVjN2FjLmJpbmRQb3B1cChwb3B1cF81YzQyODMzYWQ0MzQ0MDcwYmE2ZDE3OTU2MjlmMDRmZCkKICAgICAgICAgICAgOwoKICAgICAgICAgICAgCiAgICAgICAgCiAgICAKICAgICAgICAgICAgdmFyIGNpcmNsZV9tYXJrZXJfM2U3MzY2NDVkZjkwNGJjYWIwYjU5Mjk4YmViYzBmNjMgPSBMLmNpcmNsZU1hcmtlcigKICAgICAgICAgICAgICAgIFs0My42NiwgLTc5LjQxNzVdLAogICAgICAgICAgICAgICAgewogICJidWJibGluZ01vdXNlRXZlbnRzIjogdHJ1ZSwKICAiY29sb3IiOiAiYmx1ZSIsCiAgImRhc2hBcnJheSI6IG51bGwsCiAgImRhc2hPZmZzZXQiOiBudWxsLAogICJmaWxsIjogdHJ1ZSwKICAiZmlsbENvbG9yIjogIiMzMTg2Y2MiLAogICJmaWxsT3BhY2l0eSI6IDAuNywKICAiZmlsbFJ1bGUiOiAiZXZlbm9kZCIsCiAgImxpbmVDYXAiOiAicm91bmQiLAogICJsaW5lSm9pbiI6ICJyb3VuZCIsCiAgIm9wYWNpdHkiOiAxLjAsCiAgInJhZGl1cyI6IDUsCiAgInN0cm9rZSI6IHRydWUsCiAgIndlaWdodCI6IDMKfQogICAgICAgICAgICAgICAgKQogICAgICAgICAgICAgICAgLmFkZFRvKG1hcF9kMDQ0M2NlNjZlM2I0ZDFlYjZmMGFlZWFmNWViMTRjOCk7CiAgICAgICAgICAgIAogICAgCiAgICAgICAgICAgIHZhciBwb3B1cF85YmM1MjEyOTNlMjQ0NjA2OTNjODhiYTkwMWFlMDk0ZiA9IEwucG9wdXAoe21heFdpZHRoOiAnMTAwJScKICAgICAgICAgICAgCiAgICAgICAgICAgIH0pOwoKICAgICAgICAgICAgCiAgICAgICAgICAgICAgICB2YXIgaHRtbF9kNDU3Njk2NmVkNmQ0OTQ0YWNiMmRhZDA1YjYwODNjYSA9ICQoYDxkaXYgaWQ9Imh0bWxfZDQ1NzY5NjZlZDZkNDk0NGFjYjJkYWQwNWI2MDgzY2EiIHN0eWxlPSJ3aWR0aDogMTAwLjAlOyBoZWlnaHQ6IDEwMC4wJTsiPlBhbG1lcnN0b24tTGl0dGxlIEl0YWx5PC9kaXY+YClbMF07CiAgICAgICAgICAgICAgICBwb3B1cF85YmM1MjEyOTNlMjQ0NjA2OTNjODhiYTkwMWFlMDk0Zi5zZXRDb250ZW50KGh0bWxfZDQ1NzY5NjZlZDZkNDk0NGFjYjJkYWQwNWI2MDgzY2EpOwogICAgICAgICAgICAKCiAgICAgICAgICAgIGNpcmNsZV9tYXJrZXJfM2U3MzY2NDVkZjkwNGJjYWIwYjU5Mjk4YmViYzBmNjMuYmluZFBvcHVwKHBvcHVwXzliYzUyMTI5M2UyNDQ2MDY5M2M4OGJhOTAxYWUwOTRmKQogICAgICAgICAgICA7CgogICAgICAgICAgICAKICAgICAgICAKICAgIAogICAgICAgICAgICB2YXIgY2lyY2xlX21hcmtlcl8zMzI1MmUxMTc4YWU0OGY5YWI1NTc3MGY2YTAyMTFhNiA9IEwuY2lyY2xlTWFya2VyKAogICAgICAgICAgICAgICAgWzQzLjY1OTMsIC03OS40ODM4XSwKICAgICAgICAgICAgICAgIHsKICAiYnViYmxpbmdNb3VzZUV2ZW50cyI6IHRydWUsCiAgImNvbG9yIjogImJsdWUiLAogICJkYXNoQXJyYXkiOiBudWxsLAogICJkYXNoT2Zmc2V0IjogbnVsbCwKICAiZmlsbCI6IHRydWUsCiAgImZpbGxDb2xvciI6ICIjMzE4NmNjIiwKICAiZmlsbE9wYWNpdHkiOiAwLjcsCiAgImZpbGxSdWxlIjogImV2ZW5vZGQiLAogICJsaW5lQ2FwIjogInJvdW5kIiwKICAibGluZUpvaW4iOiAicm91bmQiLAogICJvcGFjaXR5IjogMS4wLAogICJyYWRpdXMiOiA1LAogICJzdHJva2UiOiB0cnVlLAogICJ3ZWlnaHQiOiAzCn0KICAgICAgICAgICAgICAgICkKICAgICAgICAgICAgICAgIC5hZGRUbyhtYXBfZDA0NDNjZTY2ZTNiNGQxZWI2ZjBhZWVhZjVlYjE0YzgpOwogICAgICAgICAgICAKICAgIAogICAgICAgICAgICB2YXIgcG9wdXBfMDE1ZGU3MzZiMjczNDU1NzhkYzJhZjRmOWY3NDYyMzcgPSBMLnBvcHVwKHttYXhXaWR0aDogJzEwMCUnCiAgICAgICAgICAgIAogICAgICAgICAgICB9KTsKCiAgICAgICAgICAgIAogICAgICAgICAgICAgICAgdmFyIGh0bWxfODMzZWRkN2E3Y2I5NGQyYjg2OTBkZjAxMDExMDBmNTcgPSAkKGA8ZGl2IGlkPSJodG1sXzgzM2VkZDdhN2NiOTRkMmI4NjkwZGYwMTAxMTAwZjU3IiBzdHlsZT0id2lkdGg6IDEwMC4wJTsgaGVpZ2h0OiAxMDAuMCU7Ij5SdW5ueW1lZGUtQmxvb3IgV2VzdCBWaWxsYWdlPC9kaXY+YClbMF07CiAgICAgICAgICAgICAgICBwb3B1cF8wMTVkZTczNmIyNzM0NTU3OGRjMmFmNGY5Zjc0NjIzNy5zZXRDb250ZW50KGh0bWxfODMzZWRkN2E3Y2I5NGQyYjg2OTBkZjAxMDExMDBmNTcpOwogICAgICAgICAgICAKCiAgICAgICAgICAgIGNpcmNsZV9tYXJrZXJfMzMyNTJlMTE3OGFlNDhmOWFiNTU3NzBmNmEwMjExYTYuYmluZFBvcHVwKHBvcHVwXzAxNWRlNzM2YjI3MzQ1NTc4ZGMyYWY0ZjlmNzQ2MjM3KQogICAgICAgICAgICA7CgogICAgICAgICAgICAKICAgICAgICAKPC9zY3JpcHQ+ onload=\"this.contentDocument.open();this.contentDocument.write(atob(this.getAttribute('data-html')));this.contentDocument.close();\" allowfullscreen webkitallowfullscreen mozallowfullscreen></iframe></div></div>"
            ],
            "text/plain": [
              "<folium.folium.Map at 0x7f1544d75588>"
            ]
          },
          "metadata": {
            "tags": []
          },
          "execution_count": 14
        }
      ]
    },
    {
      "cell_type": "markdown",
      "metadata": {
        "id": "BJQIt4CxhWGc",
        "colab_type": "text"
      },
      "source": [
        "Here we notice that out of the 13 neighborhoods, four are kind of isolated.\n",
        "On the contrary, we see that two clusters of neighborhoods that are very near.\n",
        "\n",
        "In the first cluster, there are three neighborhoods:\n",
        "1. Bedford Park-Nortown\n",
        "2. Lawrence Park North\n",
        "3. Mount Pleasant East\n",
        "\n",
        "In the second cluster, there are six neighborhoods:\n",
        "1. Caledonia-Fairbank\n",
        "2. Weston-Pellam Park\n",
        "3. High Park-Swansea\n",
        "4. Runnymede-Bloor West Village\n",
        "5. Palmerston-Little Italy\n",
        "6. Edenbridge-Humber Valley\n",
        "\n",
        "We measure the distance between the neighborhoods in the same cluster to get an idea of how far they are."
      ]
    },
    {
      "cell_type": "code",
      "metadata": {
        "id": "9Y1tWRlm4vqZ",
        "colab_type": "code",
        "colab": {
          "base_uri": "https://localhost:8080/",
          "height": 68
        },
        "outputId": "3451b52e-d649-4aa6-e509-5e12c0f50d35"
      },
      "source": [
        "Bedford_Park = (43.7303, -79.4114)\n",
        "Lawrence_Park = (43.7238, -79.3886)\n",
        "Mount_Pleasant = (43.7051, -79.3848)\n",
        "\n",
        "print('Distance between Lawrence_Park and Bedford_Park: {})'.format(geopy.distance.geodesic(Lawrence_Park, Bedford_Park).km))\n",
        "print('Distance between Lawrence_Park and Mount_Pleasant: {})'.format(geopy.distance.geodesic(Lawrence_Park, Mount_Pleasant).km))\n",
        "print('Distance between Bedford_Park and Mount_Pleasant: {})'.format(geopy.distance.geodesic(Bedford_Park, Mount_Pleasant).km))"
      ],
      "execution_count": 63,
      "outputs": [
        {
          "output_type": "stream",
          "text": [
            "Distance between Lawrence_Park and Bedford_Park: 1.9739222619052499)\n",
            "Distance between Lawrence_Park and Mount_Pleasant: 2.1001426333907793)\n",
            "Distance between Bedford_Park and Mount_Pleasant: 3.5262293329838568)\n"
          ],
          "name": "stdout"
        }
      ]
    },
    {
      "cell_type": "markdown",
      "metadata": {
        "id": "H8s8jDS5kkAa",
        "colab_type": "text"
      },
      "source": [
        "We see that Lawrence Park lies in the mid of Bedford_Park and Mount_Pleasant\n",
        "\n",
        "Let's look at the other cluster.\n",
        "\n",
        "For brevity, we only measure the distance from the Weston_Pellam neighborhood to others in the cluster"
      ]
    },
    {
      "cell_type": "code",
      "metadata": {
        "id": "JOCB-hbE5w4g",
        "colab_type": "code",
        "colab": {
          "base_uri": "https://localhost:8080/",
          "height": 102
        },
        "outputId": "51389d7a-f3ff-4718-f0fb-07010a511565"
      },
      "source": [
        "Weston_Pellam = (43.6716, -79.4577)\n",
        "High_Park_Swansea = (43.6536, -79.4653)\n",
        "Caledonia_Fairbank\t = (43.6899, -79.4552)\n",
        "Runnymede_Bloor = (43.6593, -79.4838)\n",
        "Palmerston_Little = (43.6600,\t-79.4175)\n",
        "Edenbridge_Humber = (43.6671, -79.5280)\n",
        "\n",
        "print('Distance between Weston_Pellam and High_Park_Swansea: {})'.format(geopy.distance.geodesic(Weston_Pellam, High_Park_Swansea).km))\n",
        "print('Distance between Weston_Pellam and Caledonia_Fairbank: {})'.format(geopy.distance.geodesic(Weston_Pellam, Caledonia_Fairbank).km))\n",
        "print('Distance between Weston_Pellam and Runnymede_Bloor: {})'.format(geopy.distance.geodesic(Weston_Pellam, Runnymede_Bloor).km))\n",
        "print('Distance between Weston_Pellam and Palmerston_Little: {})'.format(geopy.distance.geodesic(Weston_Pellam, Palmerston_Little).km))\n",
        "print('Distance between Weston_Pellam and Edenbridge_Humber: {})'.format(geopy.distance.geodesic(Weston_Pellam, Edenbridge_Humber).km))"
      ],
      "execution_count": 64,
      "outputs": [
        {
          "output_type": "stream",
          "text": [
            "Distance between Weston_Pellam and High_Park_Swansea: 2.0917431665893904)\n",
            "Distance between Weston_Pellam and Caledonia_Fairbank: 2.043208846976358)\n",
            "Distance between Weston_Pellam and Runnymede_Bloor: 2.50979640145787)\n",
            "Distance between Weston_Pellam and Palmerston_Little: 3.4890960190633016)\n",
            "Distance between Weston_Pellam and Edenbridge_Humber: 5.691716419725631)\n"
          ],
          "name": "stdout"
        }
      ]
    },
    {
      "cell_type": "markdown",
      "metadata": {
        "id": "6cF259C7ljAn",
        "colab_type": "text"
      },
      "source": [
        "We notice that apart from Edenbridge_Humber neighborhood, all the other neighborhoods in both the clusters are within 4km to the central neighborhood. This might help in making future decisions."
      ]
    },
    {
      "cell_type": "markdown",
      "metadata": {
        "id": "m1rBcC31l7-E",
        "colab_type": "text"
      },
      "source": [
        "Using Foursquare API"
      ]
    },
    {
      "cell_type": "code",
      "metadata": {
        "id": "WdcqceeYrMH9",
        "colab_type": "code",
        "colab": {
          "base_uri": "https://localhost:8080/",
          "height": 68
        },
        "outputId": "d68a1b6b-7e7a-4ef0-dee9-82dadfe30739"
      },
      "source": [
        "CLIENT_ID = 'UVUA251H5Y3PL04ICTVBK1BYIAZKBFC1ZNMVI3MAF11YHTZ2' # your Foursquare ID\n",
        "CLIENT_SECRET = 'N2TELK4XIUCRG1UKHXT0WRWVW3ZF0AUG4CLXLYHKVHTVAYSL' # your Foursquare Secret\n",
        "VERSION = '20180605' # Foursquare API version\n",
        "LIMIT = 40\n",
        "print('Your credentails:')\n",
        "print('CLIENT_ID: ' + CLIENT_ID)\n",
        "print('CLIENT_SECRET:' + CLIENT_SECRET)"
      ],
      "execution_count": 18,
      "outputs": [
        {
          "output_type": "stream",
          "text": [
            "Your credentails:\n",
            "CLIENT_ID: UVUA251H5Y3PL04ICTVBK1BYIAZKBFC1ZNMVI3MAF11YHTZ2\n",
            "CLIENT_SECRET:N2TELK4XIUCRG1UKHXT0WRWVW3ZF0AUG4CLXLYHKVHTVAYSL\n"
          ],
          "name": "stdout"
        }
      ]
    },
    {
      "cell_type": "markdown",
      "metadata": {
        "id": "CEThhrrKmA-P",
        "colab_type": "text"
      },
      "source": [
        "As neighboring neighborhoods in the two cluster lie within about 2km of range, we search for venues in the range of 1km"
      ]
    },
    {
      "cell_type": "code",
      "metadata": {
        "id": "hdH0gBcxri_0",
        "colab_type": "code",
        "colab": {}
      },
      "source": [
        "def getNearbyVenues(names, latitudes, longitudes, radius=1000):\n",
        "    \n",
        "    venues_list=[]\n",
        "    for name, lat, lng in zip(names, latitudes, longitudes):\n",
        "        print(name)\n",
        "            \n",
        "        # create the API request URL\n",
        "        url = 'https://api.foursquare.com/v2/venues/explore?&client_id={}&client_secret={}&v={}&ll={},{}&radius={}&limit={}'.format(\n",
        "            CLIENT_ID, \n",
        "            CLIENT_SECRET, \n",
        "            VERSION, \n",
        "            lat, \n",
        "            lng, \n",
        "            radius, \n",
        "            LIMIT)\n",
        "            \n",
        "        # make the GET request\n",
        "        results = requests.get(url).json()[\"response\"]['groups'][0]['items']\n",
        "        \n",
        "        # return only relevant information for each nearby venue\n",
        "        venues_list.append([(\n",
        "            name, \n",
        "            lat, \n",
        "            lng, \n",
        "            v['venue']['name'], \n",
        "            v['venue']['location']['lat'], \n",
        "            v['venue']['location']['lng'],  \n",
        "            v['venue']['categories'][0]['name']) for v in results])\n",
        "\n",
        "    nearby_venues = pd.DataFrame([item for venue_list in venues_list for item in venue_list])\n",
        "    nearby_venues.columns = ['Neighborhood', \n",
        "                  'Neighborhood Latitude', \n",
        "                  'Neighborhood Longitude', \n",
        "                  'Venue', \n",
        "                  'Venue Latitude', \n",
        "                  'Venue Longitude', \n",
        "                  'Venue Category']\n",
        "    \n",
        "    return(nearby_venues)"
      ],
      "execution_count": 0,
      "outputs": []
    },
    {
      "cell_type": "code",
      "metadata": {
        "id": "ZMkFO7Bprvqc",
        "colab_type": "code",
        "colab": {
          "base_uri": "https://localhost:8080/",
          "height": 255
        },
        "outputId": "373b82b2-3bdb-4e48-9ef4-ef1d7fb92af9"
      },
      "source": [
        "toronto_venues = getNearbyVenues(names=new_data['Neighborhood'],\n",
        "                                   latitudes=new_data['Latitude'],\n",
        "                                   longitudes=new_data['Longitude']\n",
        "                                  )"
      ],
      "execution_count": 36,
      "outputs": [
        {
          "output_type": "stream",
          "text": [
            "Caledonia-Fairbank\n",
            "Weston-Pellam Park\n",
            "Lawrence Park North\n",
            "Mount Pleasant East\n",
            "Hillcrest Village\n",
            "Bedford Park-Nortown\n",
            "North Riverdale\n",
            "Ionview\n",
            "York University Heights\n",
            "High Park-Swansea\n",
            "Edenbridge-Humber Valley\n",
            "South Riverdale\n",
            "Palmerston-Little Italy\n",
            "Runnymede-Bloor West Village\n"
          ],
          "name": "stdout"
        }
      ]
    },
    {
      "cell_type": "code",
      "metadata": {
        "id": "rBMtwkXnr1U9",
        "colab_type": "code",
        "colab": {
          "base_uri": "https://localhost:8080/",
          "height": 68
        },
        "outputId": "158047f6-b06f-464e-cbe5-7c97aaa5f69c"
      },
      "source": [
        "toronto_venues.columns"
      ],
      "execution_count": 37,
      "outputs": [
        {
          "output_type": "execute_result",
          "data": {
            "text/plain": [
              "Index(['Neighborhood', 'Neighborhood Latitude', 'Neighborhood Longitude',\n",
              "       'Venue', 'Venue Latitude', 'Venue Longitude', 'Venue Category'],\n",
              "      dtype='object')"
            ]
          },
          "metadata": {
            "tags": []
          },
          "execution_count": 37
        }
      ]
    },
    {
      "cell_type": "markdown",
      "metadata": {
        "id": "TSm4PYgHmStu",
        "colab_type": "text"
      },
      "source": [
        "Search using the API returned 430 venues from the 13 neighborhoods"
      ]
    },
    {
      "cell_type": "code",
      "metadata": {
        "id": "xiRfJ92y8GB5",
        "colab_type": "code",
        "colab": {
          "base_uri": "https://localhost:8080/",
          "height": 34
        },
        "outputId": "a896c493-9227-487d-daa0-2e390f0ed5e9"
      },
      "source": [
        "toronto_venues.shape"
      ],
      "execution_count": 38,
      "outputs": [
        {
          "output_type": "execute_result",
          "data": {
            "text/plain": [
              "(430, 7)"
            ]
          },
          "metadata": {
            "tags": []
          },
          "execution_count": 38
        }
      ]
    },
    {
      "cell_type": "code",
      "metadata": {
        "id": "5Y4w7dnar_Tu",
        "colab_type": "code",
        "colab": {
          "base_uri": "https://localhost:8080/",
          "height": 514
        },
        "outputId": "8058d6ae-9e3d-48d3-975a-3ec621bc1f86"
      },
      "source": [
        "toronto_venues.groupby('Neighborhood').count()"
      ],
      "execution_count": 39,
      "outputs": [
        {
          "output_type": "execute_result",
          "data": {
            "text/html": [
              "<div>\n",
              "<style scoped>\n",
              "    .dataframe tbody tr th:only-of-type {\n",
              "        vertical-align: middle;\n",
              "    }\n",
              "\n",
              "    .dataframe tbody tr th {\n",
              "        vertical-align: top;\n",
              "    }\n",
              "\n",
              "    .dataframe thead th {\n",
              "        text-align: right;\n",
              "    }\n",
              "</style>\n",
              "<table border=\"1\" class=\"dataframe\">\n",
              "  <thead>\n",
              "    <tr style=\"text-align: right;\">\n",
              "      <th></th>\n",
              "      <th>Neighborhood Latitude</th>\n",
              "      <th>Neighborhood Longitude</th>\n",
              "      <th>Venue</th>\n",
              "      <th>Venue Latitude</th>\n",
              "      <th>Venue Longitude</th>\n",
              "      <th>Venue Category</th>\n",
              "    </tr>\n",
              "    <tr>\n",
              "      <th>Neighborhood</th>\n",
              "      <th></th>\n",
              "      <th></th>\n",
              "      <th></th>\n",
              "      <th></th>\n",
              "      <th></th>\n",
              "      <th></th>\n",
              "    </tr>\n",
              "  </thead>\n",
              "  <tbody>\n",
              "    <tr>\n",
              "      <th>Bedford Park-Nortown</th>\n",
              "      <td>40</td>\n",
              "      <td>40</td>\n",
              "      <td>40</td>\n",
              "      <td>40</td>\n",
              "      <td>40</td>\n",
              "      <td>40</td>\n",
              "    </tr>\n",
              "    <tr>\n",
              "      <th>Caledonia-Fairbank</th>\n",
              "      <td>27</td>\n",
              "      <td>27</td>\n",
              "      <td>27</td>\n",
              "      <td>27</td>\n",
              "      <td>27</td>\n",
              "      <td>27</td>\n",
              "    </tr>\n",
              "    <tr>\n",
              "      <th>Edenbridge-Humber Valley</th>\n",
              "      <td>21</td>\n",
              "      <td>21</td>\n",
              "      <td>21</td>\n",
              "      <td>21</td>\n",
              "      <td>21</td>\n",
              "      <td>21</td>\n",
              "    </tr>\n",
              "    <tr>\n",
              "      <th>High Park-Swansea</th>\n",
              "      <td>40</td>\n",
              "      <td>40</td>\n",
              "      <td>40</td>\n",
              "      <td>40</td>\n",
              "      <td>40</td>\n",
              "      <td>40</td>\n",
              "    </tr>\n",
              "    <tr>\n",
              "      <th>Hillcrest Village</th>\n",
              "      <td>19</td>\n",
              "      <td>19</td>\n",
              "      <td>19</td>\n",
              "      <td>19</td>\n",
              "      <td>19</td>\n",
              "      <td>19</td>\n",
              "    </tr>\n",
              "    <tr>\n",
              "      <th>Ionview</th>\n",
              "      <td>36</td>\n",
              "      <td>36</td>\n",
              "      <td>36</td>\n",
              "      <td>36</td>\n",
              "      <td>36</td>\n",
              "      <td>36</td>\n",
              "    </tr>\n",
              "    <tr>\n",
              "      <th>Lawrence Park North</th>\n",
              "      <td>13</td>\n",
              "      <td>13</td>\n",
              "      <td>13</td>\n",
              "      <td>13</td>\n",
              "      <td>13</td>\n",
              "      <td>13</td>\n",
              "    </tr>\n",
              "    <tr>\n",
              "      <th>Mount Pleasant East</th>\n",
              "      <td>40</td>\n",
              "      <td>40</td>\n",
              "      <td>40</td>\n",
              "      <td>40</td>\n",
              "      <td>40</td>\n",
              "      <td>40</td>\n",
              "    </tr>\n",
              "    <tr>\n",
              "      <th>North Riverdale</th>\n",
              "      <td>40</td>\n",
              "      <td>40</td>\n",
              "      <td>40</td>\n",
              "      <td>40</td>\n",
              "      <td>40</td>\n",
              "      <td>40</td>\n",
              "    </tr>\n",
              "    <tr>\n",
              "      <th>Palmerston-Little Italy</th>\n",
              "      <td>40</td>\n",
              "      <td>40</td>\n",
              "      <td>40</td>\n",
              "      <td>40</td>\n",
              "      <td>40</td>\n",
              "      <td>40</td>\n",
              "    </tr>\n",
              "    <tr>\n",
              "      <th>Runnymede-Bloor West Village</th>\n",
              "      <td>10</td>\n",
              "      <td>10</td>\n",
              "      <td>10</td>\n",
              "      <td>10</td>\n",
              "      <td>10</td>\n",
              "      <td>10</td>\n",
              "    </tr>\n",
              "    <tr>\n",
              "      <th>South Riverdale</th>\n",
              "      <td>40</td>\n",
              "      <td>40</td>\n",
              "      <td>40</td>\n",
              "      <td>40</td>\n",
              "      <td>40</td>\n",
              "      <td>40</td>\n",
              "    </tr>\n",
              "    <tr>\n",
              "      <th>Weston-Pellam Park</th>\n",
              "      <td>40</td>\n",
              "      <td>40</td>\n",
              "      <td>40</td>\n",
              "      <td>40</td>\n",
              "      <td>40</td>\n",
              "      <td>40</td>\n",
              "    </tr>\n",
              "    <tr>\n",
              "      <th>York University Heights</th>\n",
              "      <td>24</td>\n",
              "      <td>24</td>\n",
              "      <td>24</td>\n",
              "      <td>24</td>\n",
              "      <td>24</td>\n",
              "      <td>24</td>\n",
              "    </tr>\n",
              "  </tbody>\n",
              "</table>\n",
              "</div>"
            ],
            "text/plain": [
              "                              Neighborhood Latitude  ...  Venue Category\n",
              "Neighborhood                                         ...                \n",
              "Bedford Park-Nortown                             40  ...              40\n",
              "Caledonia-Fairbank                               27  ...              27\n",
              "Edenbridge-Humber Valley                         21  ...              21\n",
              "High Park-Swansea                                40  ...              40\n",
              "Hillcrest Village                                19  ...              19\n",
              "Ionview                                          36  ...              36\n",
              "Lawrence Park North                              13  ...              13\n",
              "Mount Pleasant East                              40  ...              40\n",
              "North Riverdale                                  40  ...              40\n",
              "Palmerston-Little Italy                          40  ...              40\n",
              "Runnymede-Bloor West Village                     10  ...              10\n",
              "South Riverdale                                  40  ...              40\n",
              "Weston-Pellam Park                               40  ...              40\n",
              "York University Heights                          24  ...              24\n",
              "\n",
              "[14 rows x 6 columns]"
            ]
          },
          "metadata": {
            "tags": []
          },
          "execution_count": 39
        }
      ]
    },
    {
      "cell_type": "markdown",
      "metadata": {
        "id": "_ZTY0LtNmi0A",
        "colab_type": "text"
      },
      "source": [
        "Let's count the unique categories to which the venues belong to."
      ]
    },
    {
      "cell_type": "code",
      "metadata": {
        "id": "Xebk4AuosaM_",
        "colab_type": "code",
        "colab": {
          "base_uri": "https://localhost:8080/",
          "height": 34
        },
        "outputId": "26cc98b5-1bb8-403d-c11a-939beaf8012c"
      },
      "source": [
        "print('There are {} uniques categories.'.format(len(toronto_venues['Venue Category'].unique())))"
      ],
      "execution_count": 40,
      "outputs": [
        {
          "output_type": "stream",
          "text": [
            "There are 127 uniques categories.\n"
          ],
          "name": "stdout"
        }
      ]
    },
    {
      "cell_type": "code",
      "metadata": {
        "id": "PzBfEptQsoaC",
        "colab_type": "code",
        "colab": {}
      },
      "source": [
        "unique_categories = toronto_venues['Venue Category'].unique()"
      ],
      "execution_count": 0,
      "outputs": []
    },
    {
      "cell_type": "markdown",
      "metadata": {
        "id": "NijOaxr2muUB",
        "colab_type": "text"
      },
      "source": [
        "Let's check if there are any different types of restaurants in the unique categories."
      ]
    },
    {
      "cell_type": "code",
      "metadata": {
        "id": "XgRlnayjsseE",
        "colab_type": "code",
        "colab": {}
      },
      "source": [
        "restaurant_types = [i for i in unique_categories if 'Restaurant' in i]"
      ],
      "execution_count": 0,
      "outputs": []
    },
    {
      "cell_type": "code",
      "metadata": {
        "id": "JUlCCv3dtoVR",
        "colab_type": "code",
        "colab": {
          "base_uri": "https://localhost:8080/",
          "height": 493
        },
        "outputId": "7847c9aa-1cce-499e-b7a6-6db820464118"
      },
      "source": [
        "restaurant_types"
      ],
      "execution_count": 43,
      "outputs": [
        {
          "output_type": "execute_result",
          "data": {
            "text/plain": [
              "['Japanese Restaurant',\n",
              " 'Falafel Restaurant',\n",
              " 'Mexican Restaurant',\n",
              " 'Fast Food Restaurant',\n",
              " 'Portuguese Restaurant',\n",
              " 'Brazilian Restaurant',\n",
              " 'Seafood Restaurant',\n",
              " 'Vietnamese Restaurant',\n",
              " 'Restaurant',\n",
              " 'Italian Restaurant',\n",
              " 'Thai Restaurant',\n",
              " 'Indian Restaurant',\n",
              " 'Sushi Restaurant',\n",
              " 'Asian Restaurant',\n",
              " 'Vegetarian / Vegan Restaurant',\n",
              " 'Ramen Restaurant',\n",
              " 'Cantonese Restaurant',\n",
              " 'Chinese Restaurant',\n",
              " 'Middle Eastern Restaurant',\n",
              " 'American Restaurant',\n",
              " 'French Restaurant',\n",
              " 'Tapas Restaurant',\n",
              " 'Greek Restaurant',\n",
              " 'Cuban Restaurant',\n",
              " 'Turkish Restaurant',\n",
              " 'Mediterranean Restaurant',\n",
              " 'Korean Restaurant',\n",
              " 'South American Restaurant']"
            ]
          },
          "metadata": {
            "tags": []
          },
          "execution_count": 43
        }
      ]
    },
    {
      "cell_type": "markdown",
      "metadata": {
        "id": "40y7iz0w_HfX",
        "colab_type": "text"
      },
      "source": [
        "We see four main categories of restaurants:\n",
        "1. Far-Eastern: Asian, Vietnamese, Sushi, Thai, Chinese, Korean, Japanese, Ramen, Cantonese, Seafood, Vegan\n",
        "2. Eastern: Falafel, Middle-Eastern, Indian, Turkish\n",
        "3. American: Brazilian, New American, American, Mexican, Latin American, South American, Fast Food, Cuban\n",
        "4. European: Portoguese, Italian, Greek, Tapas, Mediterranean, French"
      ]
    },
    {
      "cell_type": "markdown",
      "metadata": {
        "id": "L2lBFLQCnHzj",
        "colab_type": "text"
      },
      "source": [
        "Discussing with our client, we found that he is more interested in opening an Eastern restaurant, so we limit our search to four types of restuarants:\n",
        "1. Indian\n",
        "2. Middle-Eastern\n",
        "3. Falafel\n",
        "4. Turkish"
      ]
    },
    {
      "cell_type": "code",
      "metadata": {
        "id": "lQhkHwyZJ5ml",
        "colab_type": "code",
        "colab": {
          "base_uri": "https://localhost:8080/",
          "height": 235
        },
        "outputId": "d454a0ef-9df2-4225-dc61-b4ff405e6e7a"
      },
      "source": [
        "toronto_venues.loc[toronto_venues['Venue Category']=='Indian Restaurant']"
      ],
      "execution_count": 47,
      "outputs": [
        {
          "output_type": "execute_result",
          "data": {
            "text/html": [
              "<div>\n",
              "<style scoped>\n",
              "    .dataframe tbody tr th:only-of-type {\n",
              "        vertical-align: middle;\n",
              "    }\n",
              "\n",
              "    .dataframe tbody tr th {\n",
              "        vertical-align: top;\n",
              "    }\n",
              "\n",
              "    .dataframe thead th {\n",
              "        text-align: right;\n",
              "    }\n",
              "</style>\n",
              "<table border=\"1\" class=\"dataframe\">\n",
              "  <thead>\n",
              "    <tr style=\"text-align: right;\">\n",
              "      <th></th>\n",
              "      <th>Neighborhood</th>\n",
              "      <th>Neighborhood Latitude</th>\n",
              "      <th>Neighborhood Longitude</th>\n",
              "      <th>Venue</th>\n",
              "      <th>Venue Latitude</th>\n",
              "      <th>Venue Longitude</th>\n",
              "      <th>Venue Category</th>\n",
              "    </tr>\n",
              "  </thead>\n",
              "  <tbody>\n",
              "    <tr>\n",
              "      <th>82</th>\n",
              "      <td>Mount Pleasant East</td>\n",
              "      <td>43.7051</td>\n",
              "      <td>-79.3848</td>\n",
              "      <td>Marigold Indian Bistro</td>\n",
              "      <td>43.702881</td>\n",
              "      <td>-79.388008</td>\n",
              "      <td>Indian Restaurant</td>\n",
              "    </tr>\n",
              "    <tr>\n",
              "      <th>96</th>\n",
              "      <td>Mount Pleasant East</td>\n",
              "      <td>43.7051</td>\n",
              "      <td>-79.3848</td>\n",
              "      <td>Kamasutra</td>\n",
              "      <td>43.703991</td>\n",
              "      <td>-79.374597</td>\n",
              "      <td>Indian Restaurant</td>\n",
              "    </tr>\n",
              "    <tr>\n",
              "      <th>177</th>\n",
              "      <td>Bedford Park-Nortown</td>\n",
              "      <td>43.7303</td>\n",
              "      <td>-79.4114</td>\n",
              "      <td>The Copper Chimney</td>\n",
              "      <td>43.736195</td>\n",
              "      <td>-79.420271</td>\n",
              "      <td>Indian Restaurant</td>\n",
              "    </tr>\n",
              "    <tr>\n",
              "      <th>307</th>\n",
              "      <td>High Park-Swansea</td>\n",
              "      <td>43.6536</td>\n",
              "      <td>-79.4653</td>\n",
              "      <td>Bukhara indian cuisine</td>\n",
              "      <td>43.651105</td>\n",
              "      <td>-79.477104</td>\n",
              "      <td>Indian Restaurant</td>\n",
              "    </tr>\n",
              "    <tr>\n",
              "      <th>383</th>\n",
              "      <td>Palmerston-Little Italy</td>\n",
              "      <td>43.6600</td>\n",
              "      <td>-79.4175</td>\n",
              "      <td>Banjara Indian Cuisine</td>\n",
              "      <td>43.662916</td>\n",
              "      <td>-79.421911</td>\n",
              "      <td>Indian Restaurant</td>\n",
              "    </tr>\n",
              "    <tr>\n",
              "      <th>414</th>\n",
              "      <td>Palmerston-Little Italy</td>\n",
              "      <td>43.6600</td>\n",
              "      <td>-79.4175</td>\n",
              "      <td>Madras Masala</td>\n",
              "      <td>43.662959</td>\n",
              "      <td>-79.421646</td>\n",
              "      <td>Indian Restaurant</td>\n",
              "    </tr>\n",
              "  </tbody>\n",
              "</table>\n",
              "</div>"
            ],
            "text/plain": [
              "                Neighborhood  ...     Venue Category\n",
              "82       Mount Pleasant East  ...  Indian Restaurant\n",
              "96       Mount Pleasant East  ...  Indian Restaurant\n",
              "177     Bedford Park-Nortown  ...  Indian Restaurant\n",
              "307        High Park-Swansea  ...  Indian Restaurant\n",
              "383  Palmerston-Little Italy  ...  Indian Restaurant\n",
              "414  Palmerston-Little Italy  ...  Indian Restaurant\n",
              "\n",
              "[6 rows x 7 columns]"
            ]
          },
          "metadata": {
            "tags": []
          },
          "execution_count": 47
        }
      ]
    },
    {
      "cell_type": "code",
      "metadata": {
        "id": "8NkLIsgnK98H",
        "colab_type": "code",
        "colab": {
          "base_uri": "https://localhost:8080/",
          "height": 142
        },
        "outputId": "042f2a82-562e-44ba-d155-b1770f9f3927"
      },
      "source": [
        "toronto_venues.loc[toronto_venues['Venue Category']=='Falafel Restaurant']"
      ],
      "execution_count": 48,
      "outputs": [
        {
          "output_type": "execute_result",
          "data": {
            "text/html": [
              "<div>\n",
              "<style scoped>\n",
              "    .dataframe tbody tr th:only-of-type {\n",
              "        vertical-align: middle;\n",
              "    }\n",
              "\n",
              "    .dataframe tbody tr th {\n",
              "        vertical-align: top;\n",
              "    }\n",
              "\n",
              "    .dataframe thead th {\n",
              "        text-align: right;\n",
              "    }\n",
              "</style>\n",
              "<table border=\"1\" class=\"dataframe\">\n",
              "  <thead>\n",
              "    <tr style=\"text-align: right;\">\n",
              "      <th></th>\n",
              "      <th>Neighborhood</th>\n",
              "      <th>Neighborhood Latitude</th>\n",
              "      <th>Neighborhood Longitude</th>\n",
              "      <th>Venue</th>\n",
              "      <th>Venue Latitude</th>\n",
              "      <th>Venue Longitude</th>\n",
              "      <th>Venue Category</th>\n",
              "    </tr>\n",
              "  </thead>\n",
              "  <tbody>\n",
              "    <tr>\n",
              "      <th>1</th>\n",
              "      <td>Caledonia-Fairbank</td>\n",
              "      <td>43.6899</td>\n",
              "      <td>-79.4552</td>\n",
              "      <td>Babos Dönerpoint</td>\n",
              "      <td>43.693249</td>\n",
              "      <td>-79.461851</td>\n",
              "      <td>Falafel Restaurant</td>\n",
              "    </tr>\n",
              "    <tr>\n",
              "      <th>79</th>\n",
              "      <td>Lawrence Park North</td>\n",
              "      <td>43.7238</td>\n",
              "      <td>-79.3886</td>\n",
              "      <td>Extreme Pita</td>\n",
              "      <td>43.721814</td>\n",
              "      <td>-79.376520</td>\n",
              "      <td>Falafel Restaurant</td>\n",
              "    </tr>\n",
              "    <tr>\n",
              "      <th>308</th>\n",
              "      <td>High Park-Swansea</td>\n",
              "      <td>43.6536</td>\n",
              "      <td>-79.4653</td>\n",
              "      <td>Ali Baba's</td>\n",
              "      <td>43.651010</td>\n",
              "      <td>-79.477179</td>\n",
              "      <td>Falafel Restaurant</td>\n",
              "    </tr>\n",
              "  </tbody>\n",
              "</table>\n",
              "</div>"
            ],
            "text/plain": [
              "            Neighborhood  ...      Venue Category\n",
              "1     Caledonia-Fairbank  ...  Falafel Restaurant\n",
              "79   Lawrence Park North  ...  Falafel Restaurant\n",
              "308    High Park-Swansea  ...  Falafel Restaurant\n",
              "\n",
              "[3 rows x 7 columns]"
            ]
          },
          "metadata": {
            "tags": []
          },
          "execution_count": 48
        }
      ]
    },
    {
      "cell_type": "code",
      "metadata": {
        "id": "9UxSRBbdWCpl",
        "colab_type": "code",
        "colab": {
          "base_uri": "https://localhost:8080/",
          "height": 162
        },
        "outputId": "77b12114-c3d8-4442-970b-ad9efb2a55af"
      },
      "source": [
        "toronto_venues.loc[toronto_venues['Venue Category']=='Middle Eastern Restaurant']"
      ],
      "execution_count": 49,
      "outputs": [
        {
          "output_type": "execute_result",
          "data": {
            "text/html": [
              "<div>\n",
              "<style scoped>\n",
              "    .dataframe tbody tr th:only-of-type {\n",
              "        vertical-align: middle;\n",
              "    }\n",
              "\n",
              "    .dataframe tbody tr th {\n",
              "        vertical-align: top;\n",
              "    }\n",
              "\n",
              "    .dataframe thead th {\n",
              "        text-align: right;\n",
              "    }\n",
              "</style>\n",
              "<table border=\"1\" class=\"dataframe\">\n",
              "  <thead>\n",
              "    <tr style=\"text-align: right;\">\n",
              "      <th></th>\n",
              "      <th>Neighborhood</th>\n",
              "      <th>Neighborhood Latitude</th>\n",
              "      <th>Neighborhood Longitude</th>\n",
              "      <th>Venue</th>\n",
              "      <th>Venue Latitude</th>\n",
              "      <th>Venue Longitude</th>\n",
              "      <th>Venue Category</th>\n",
              "    </tr>\n",
              "  </thead>\n",
              "  <tbody>\n",
              "    <tr>\n",
              "      <th>135</th>\n",
              "      <td>Hillcrest Village</td>\n",
              "      <td>43.8049</td>\n",
              "      <td>-79.3547</td>\n",
              "      <td>Lazeez BBQ Kebabs, Shawarma, Falafel</td>\n",
              "      <td>43.812754</td>\n",
              "      <td>-79.358048</td>\n",
              "      <td>Middle Eastern Restaurant</td>\n",
              "    </tr>\n",
              "    <tr>\n",
              "      <th>259</th>\n",
              "      <td>York University Heights</td>\n",
              "      <td>43.7664</td>\n",
              "      <td>-79.4774</td>\n",
              "      <td>Chaihana</td>\n",
              "      <td>43.768936</td>\n",
              "      <td>-79.468502</td>\n",
              "      <td>Middle Eastern Restaurant</td>\n",
              "    </tr>\n",
              "  </tbody>\n",
              "</table>\n",
              "</div>"
            ],
            "text/plain": [
              "                Neighborhood  ...             Venue Category\n",
              "135        Hillcrest Village  ...  Middle Eastern Restaurant\n",
              "259  York University Heights  ...  Middle Eastern Restaurant\n",
              "\n",
              "[2 rows x 7 columns]"
            ]
          },
          "metadata": {
            "tags": []
          },
          "execution_count": 49
        }
      ]
    },
    {
      "cell_type": "code",
      "metadata": {
        "id": "KPB4W7UEnfnh",
        "colab_type": "code",
        "colab": {
          "base_uri": "https://localhost:8080/",
          "height": 80
        },
        "outputId": "237c39e0-040f-41e2-a0a4-80b854ee7a3f"
      },
      "source": [
        "toronto_venues.loc[toronto_venues['Venue Category']=='Turkish Restaurant']"
      ],
      "execution_count": 66,
      "outputs": [
        {
          "output_type": "execute_result",
          "data": {
            "text/html": [
              "<div>\n",
              "<style scoped>\n",
              "    .dataframe tbody tr th:only-of-type {\n",
              "        vertical-align: middle;\n",
              "    }\n",
              "\n",
              "    .dataframe tbody tr th {\n",
              "        vertical-align: top;\n",
              "    }\n",
              "\n",
              "    .dataframe thead th {\n",
              "        text-align: right;\n",
              "    }\n",
              "</style>\n",
              "<table border=\"1\" class=\"dataframe\">\n",
              "  <thead>\n",
              "    <tr style=\"text-align: right;\">\n",
              "      <th></th>\n",
              "      <th>Neighborhood</th>\n",
              "      <th>Neighborhood Latitude</th>\n",
              "      <th>Neighborhood Longitude</th>\n",
              "      <th>Venue</th>\n",
              "      <th>Venue Latitude</th>\n",
              "      <th>Venue Longitude</th>\n",
              "      <th>Venue Category</th>\n",
              "    </tr>\n",
              "  </thead>\n",
              "  <tbody>\n",
              "    <tr>\n",
              "      <th>219</th>\n",
              "      <td>Ionview</td>\n",
              "      <td>43.7308</td>\n",
              "      <td>-79.2739</td>\n",
              "      <td>Baran's Turkish Restaurant &amp; Bar</td>\n",
              "      <td>43.728978</td>\n",
              "      <td>-79.280811</td>\n",
              "      <td>Turkish Restaurant</td>\n",
              "    </tr>\n",
              "  </tbody>\n",
              "</table>\n",
              "</div>"
            ],
            "text/plain": [
              "    Neighborhood  Neighborhood Latitude  ...  Venue Longitude      Venue Category\n",
              "219      Ionview                43.7308  ...       -79.280811  Turkish Restaurant\n",
              "\n",
              "[1 rows x 7 columns]"
            ]
          },
          "metadata": {
            "tags": []
          },
          "execution_count": 66
        }
      ]
    },
    {
      "cell_type": "markdown",
      "metadata": {
        "id": "2rSgwy5qoGqb",
        "colab_type": "text"
      },
      "source": [
        "Looking at the neighborhoods to which the searched restaurants belong to, we list the neighborhoods:\n",
        "1. Mount Pleasant East\t\n",
        "2. Bedford Park-Nortown\t\n",
        "3. Lawrence Park North\n",
        "4. Palmerston-Little Italy\t\n",
        "5. High Park-Swansea\t\n",
        "6. Caledonia-Fairbank\n",
        "7. Hillcrest Village\n",
        "8. York University Heights\n",
        "9. Ionview"
      ]
    },
    {
      "cell_type": "markdown",
      "metadata": {
        "id": "irzU9Odko089",
        "colab_type": "text"
      },
      "source": [
        "Discussing again with our client about the locations, we find that he is more interested in the cluster surrounded by Weston-Pellam Park, so we limit our search to that area."
      ]
    },
    {
      "cell_type": "code",
      "metadata": {
        "id": "ukYcld1VW7zN",
        "colab_type": "code",
        "colab": {
          "base_uri": "https://localhost:8080/",
          "height": 1000
        },
        "outputId": "703af13c-108a-40b7-b099-ab3bb41cafba"
      },
      "source": [
        "toronto_venues.loc[toronto_venues['Neighborhood']=='Weston-Pellam Park']"
      ],
      "execution_count": 51,
      "outputs": [
        {
          "output_type": "execute_result",
          "data": {
            "text/html": [
              "<div>\n",
              "<style scoped>\n",
              "    .dataframe tbody tr th:only-of-type {\n",
              "        vertical-align: middle;\n",
              "    }\n",
              "\n",
              "    .dataframe tbody tr th {\n",
              "        vertical-align: top;\n",
              "    }\n",
              "\n",
              "    .dataframe thead th {\n",
              "        text-align: right;\n",
              "    }\n",
              "</style>\n",
              "<table border=\"1\" class=\"dataframe\">\n",
              "  <thead>\n",
              "    <tr style=\"text-align: right;\">\n",
              "      <th></th>\n",
              "      <th>Neighborhood</th>\n",
              "      <th>Neighborhood Latitude</th>\n",
              "      <th>Neighborhood Longitude</th>\n",
              "      <th>Venue</th>\n",
              "      <th>Venue Latitude</th>\n",
              "      <th>Venue Longitude</th>\n",
              "      <th>Venue Category</th>\n",
              "    </tr>\n",
              "  </thead>\n",
              "  <tbody>\n",
              "    <tr>\n",
              "      <th>27</th>\n",
              "      <td>Weston-Pellam Park</td>\n",
              "      <td>43.6716</td>\n",
              "      <td>-79.4577</td>\n",
              "      <td>The Den Toronto : Workshops, Bench Rentals and...</td>\n",
              "      <td>43.670638</td>\n",
              "      <td>-79.456615</td>\n",
              "      <td>Jewelry Store</td>\n",
              "    </tr>\n",
              "    <tr>\n",
              "      <th>28</th>\n",
              "      <td>Weston-Pellam Park</td>\n",
              "      <td>43.6716</td>\n",
              "      <td>-79.4577</td>\n",
              "      <td>Sabor Brasil Restaurant</td>\n",
              "      <td>43.674445</td>\n",
              "      <td>-79.459228</td>\n",
              "      <td>Brazilian Restaurant</td>\n",
              "    </tr>\n",
              "    <tr>\n",
              "      <th>29</th>\n",
              "      <td>Weston-Pellam Park</td>\n",
              "      <td>43.6716</td>\n",
              "      <td>-79.4577</td>\n",
              "      <td>Caledonia Bakery &amp; Pastry</td>\n",
              "      <td>43.675441</td>\n",
              "      <td>-79.454658</td>\n",
              "      <td>Bakery</td>\n",
              "    </tr>\n",
              "    <tr>\n",
              "      <th>30</th>\n",
              "      <td>Weston-Pellam Park</td>\n",
              "      <td>43.6716</td>\n",
              "      <td>-79.4577</td>\n",
              "      <td>Honest Weight</td>\n",
              "      <td>43.665389</td>\n",
              "      <td>-79.461335</td>\n",
              "      <td>Seafood Restaurant</td>\n",
              "    </tr>\n",
              "    <tr>\n",
              "      <th>31</th>\n",
              "      <td>Weston-Pellam Park</td>\n",
              "      <td>43.6716</td>\n",
              "      <td>-79.4577</td>\n",
              "      <td>TuckShop Kitchen</td>\n",
              "      <td>43.665050</td>\n",
              "      <td>-79.455624</td>\n",
              "      <td>Snack Place</td>\n",
              "    </tr>\n",
              "    <tr>\n",
              "      <th>32</th>\n",
              "      <td>Weston-Pellam Park</td>\n",
              "      <td>43.6716</td>\n",
              "      <td>-79.4577</td>\n",
              "      <td>Pho Xua</td>\n",
              "      <td>43.674056</td>\n",
              "      <td>-79.461112</td>\n",
              "      <td>Vietnamese Restaurant</td>\n",
              "    </tr>\n",
              "    <tr>\n",
              "      <th>33</th>\n",
              "      <td>Weston-Pellam Park</td>\n",
              "      <td>43.6716</td>\n",
              "      <td>-79.4577</td>\n",
              "      <td>Mattachioni</td>\n",
              "      <td>43.664960</td>\n",
              "      <td>-79.454912</td>\n",
              "      <td>Café</td>\n",
              "    </tr>\n",
              "    <tr>\n",
              "      <th>34</th>\n",
              "      <td>Weston-Pellam Park</td>\n",
              "      <td>43.6716</td>\n",
              "      <td>-79.4577</td>\n",
              "      <td>Tavora Foods</td>\n",
              "      <td>43.674868</td>\n",
              "      <td>-79.456559</td>\n",
              "      <td>Fish Market</td>\n",
              "    </tr>\n",
              "    <tr>\n",
              "      <th>35</th>\n",
              "      <td>Weston-Pellam Park</td>\n",
              "      <td>43.6716</td>\n",
              "      <td>-79.4577</td>\n",
              "      <td>Baguette &amp; Co</td>\n",
              "      <td>43.664744</td>\n",
              "      <td>-79.455766</td>\n",
              "      <td>Café</td>\n",
              "    </tr>\n",
              "    <tr>\n",
              "      <th>36</th>\n",
              "      <td>Weston-Pellam Park</td>\n",
              "      <td>43.6716</td>\n",
              "      <td>-79.4577</td>\n",
              "      <td>Love Chix</td>\n",
              "      <td>43.665230</td>\n",
              "      <td>-79.454070</td>\n",
              "      <td>Restaurant</td>\n",
              "    </tr>\n",
              "    <tr>\n",
              "      <th>37</th>\n",
              "      <td>Weston-Pellam Park</td>\n",
              "      <td>43.6716</td>\n",
              "      <td>-79.4577</td>\n",
              "      <td>Balzac’s Coffee</td>\n",
              "      <td>43.670042</td>\n",
              "      <td>-79.448342</td>\n",
              "      <td>Coffee Shop</td>\n",
              "    </tr>\n",
              "    <tr>\n",
              "      <th>38</th>\n",
              "      <td>Weston-Pellam Park</td>\n",
              "      <td>43.6716</td>\n",
              "      <td>-79.4577</td>\n",
              "      <td>Indie Alehouse</td>\n",
              "      <td>43.665475</td>\n",
              "      <td>-79.465290</td>\n",
              "      <td>Gastropub</td>\n",
              "    </tr>\n",
              "    <tr>\n",
              "      <th>39</th>\n",
              "      <td>Weston-Pellam Park</td>\n",
              "      <td>43.6716</td>\n",
              "      <td>-79.4577</td>\n",
              "      <td>Hale Coffee</td>\n",
              "      <td>43.665532</td>\n",
              "      <td>-79.449949</td>\n",
              "      <td>Coffee Shop</td>\n",
              "    </tr>\n",
              "    <tr>\n",
              "      <th>40</th>\n",
              "      <td>Weston-Pellam Park</td>\n",
              "      <td>43.6716</td>\n",
              "      <td>-79.4577</td>\n",
              "      <td>Earlscourt Park</td>\n",
              "      <td>43.673537</td>\n",
              "      <td>-79.451516</td>\n",
              "      <td>Park</td>\n",
              "    </tr>\n",
              "    <tr>\n",
              "      <th>41</th>\n",
              "      <td>Weston-Pellam Park</td>\n",
              "      <td>43.6716</td>\n",
              "      <td>-79.4577</td>\n",
              "      <td>Tre Mari Bakery</td>\n",
              "      <td>43.676487</td>\n",
              "      <td>-79.448650</td>\n",
              "      <td>Café</td>\n",
              "    </tr>\n",
              "    <tr>\n",
              "      <th>42</th>\n",
              "      <td>Weston-Pellam Park</td>\n",
              "      <td>43.6716</td>\n",
              "      <td>-79.4577</td>\n",
              "      <td>Organic Garage</td>\n",
              "      <td>43.667743</td>\n",
              "      <td>-79.463271</td>\n",
              "      <td>Organic Grocery</td>\n",
              "    </tr>\n",
              "    <tr>\n",
              "      <th>43</th>\n",
              "      <td>Weston-Pellam Park</td>\n",
              "      <td>43.6716</td>\n",
              "      <td>-79.4577</td>\n",
              "      <td>Cafe Con Leche</td>\n",
              "      <td>43.665304</td>\n",
              "      <td>-79.453353</td>\n",
              "      <td>Café</td>\n",
              "    </tr>\n",
              "    <tr>\n",
              "      <th>44</th>\n",
              "      <td>Weston-Pellam Park</td>\n",
              "      <td>43.6716</td>\n",
              "      <td>-79.4577</td>\n",
              "      <td>nodo</td>\n",
              "      <td>43.665303</td>\n",
              "      <td>-79.465621</td>\n",
              "      <td>Italian Restaurant</td>\n",
              "    </tr>\n",
              "    <tr>\n",
              "      <th>45</th>\n",
              "      <td>Weston-Pellam Park</td>\n",
              "      <td>43.6716</td>\n",
              "      <td>-79.4577</td>\n",
              "      <td>Hole in the Wall</td>\n",
              "      <td>43.665296</td>\n",
              "      <td>-79.465118</td>\n",
              "      <td>Bar</td>\n",
              "    </tr>\n",
              "    <tr>\n",
              "      <th>46</th>\n",
              "      <td>Weston-Pellam Park</td>\n",
              "      <td>43.6716</td>\n",
              "      <td>-79.4577</td>\n",
              "      <td>Agio Italian Ristorante</td>\n",
              "      <td>43.676156</td>\n",
              "      <td>-79.450574</td>\n",
              "      <td>Italian Restaurant</td>\n",
              "    </tr>\n",
              "    <tr>\n",
              "      <th>47</th>\n",
              "      <td>Weston-Pellam Park</td>\n",
              "      <td>43.6716</td>\n",
              "      <td>-79.4577</td>\n",
              "      <td>Junction Flea</td>\n",
              "      <td>43.665258</td>\n",
              "      <td>-79.462868</td>\n",
              "      <td>Flea Market</td>\n",
              "    </tr>\n",
              "    <tr>\n",
              "      <th>48</th>\n",
              "      <td>Weston-Pellam Park</td>\n",
              "      <td>43.6716</td>\n",
              "      <td>-79.4577</td>\n",
              "      <td>Farmhouse Tavern</td>\n",
              "      <td>43.664790</td>\n",
              "      <td>-79.455415</td>\n",
              "      <td>Gastropub</td>\n",
              "    </tr>\n",
              "    <tr>\n",
              "      <th>49</th>\n",
              "      <td>Weston-Pellam Park</td>\n",
              "      <td>43.6716</td>\n",
              "      <td>-79.4577</td>\n",
              "      <td>Thai Lime</td>\n",
              "      <td>43.665354</td>\n",
              "      <td>-79.452770</td>\n",
              "      <td>Thai Restaurant</td>\n",
              "    </tr>\n",
              "    <tr>\n",
              "      <th>50</th>\n",
              "      <td>Weston-Pellam Park</td>\n",
              "      <td>43.6716</td>\n",
              "      <td>-79.4577</td>\n",
              "      <td>Joseph J. Piccininni Community Recreation Centre</td>\n",
              "      <td>43.675766</td>\n",
              "      <td>-79.451218</td>\n",
              "      <td>Pool</td>\n",
              "    </tr>\n",
              "    <tr>\n",
              "      <th>51</th>\n",
              "      <td>Weston-Pellam Park</td>\n",
              "      <td>43.6716</td>\n",
              "      <td>-79.4577</td>\n",
              "      <td>Cùu Long Miên Tây</td>\n",
              "      <td>43.674142</td>\n",
              "      <td>-79.460520</td>\n",
              "      <td>Vietnamese Restaurant</td>\n",
              "    </tr>\n",
              "    <tr>\n",
              "      <th>52</th>\n",
              "      <td>Weston-Pellam Park</td>\n",
              "      <td>43.6716</td>\n",
              "      <td>-79.4577</td>\n",
              "      <td>Five Guys</td>\n",
              "      <td>43.673889</td>\n",
              "      <td>-79.469613</td>\n",
              "      <td>Burger Joint</td>\n",
              "    </tr>\n",
              "    <tr>\n",
              "      <th>53</th>\n",
              "      <td>Weston-Pellam Park</td>\n",
              "      <td>43.6716</td>\n",
              "      <td>-79.4577</td>\n",
              "      <td>La Paloma</td>\n",
              "      <td>43.676164</td>\n",
              "      <td>-79.450867</td>\n",
              "      <td>Ice Cream Shop</td>\n",
              "    </tr>\n",
              "    <tr>\n",
              "      <th>54</th>\n",
              "      <td>Weston-Pellam Park</td>\n",
              "      <td>43.6716</td>\n",
              "      <td>-79.4577</td>\n",
              "      <td>Wallace Espresso</td>\n",
              "      <td>43.664807</td>\n",
              "      <td>-79.455742</td>\n",
              "      <td>Café</td>\n",
              "    </tr>\n",
              "    <tr>\n",
              "      <th>55</th>\n",
              "      <td>Weston-Pellam Park</td>\n",
              "      <td>43.6716</td>\n",
              "      <td>-79.4577</td>\n",
              "      <td>Piri-Piri Churrasqueira</td>\n",
              "      <td>43.666248</td>\n",
              "      <td>-79.449842</td>\n",
              "      <td>Portuguese Restaurant</td>\n",
              "    </tr>\n",
              "    <tr>\n",
              "      <th>56</th>\n",
              "      <td>Weston-Pellam Park</td>\n",
              "      <td>43.6716</td>\n",
              "      <td>-79.4577</td>\n",
              "      <td>Junction City Music Hall</td>\n",
              "      <td>43.665334</td>\n",
              "      <td>-79.466253</td>\n",
              "      <td>Music Venue</td>\n",
              "    </tr>\n",
              "    <tr>\n",
              "      <th>57</th>\n",
              "      <td>Weston-Pellam Park</td>\n",
              "      <td>43.6716</td>\n",
              "      <td>-79.4577</td>\n",
              "      <td>Fat Louie's BBQ</td>\n",
              "      <td>43.669327</td>\n",
              "      <td>-79.469166</td>\n",
              "      <td>Food Truck</td>\n",
              "    </tr>\n",
              "    <tr>\n",
              "      <th>58</th>\n",
              "      <td>Weston-Pellam Park</td>\n",
              "      <td>43.6716</td>\n",
              "      <td>-79.4577</td>\n",
              "      <td>Frank's Pizza House</td>\n",
              "      <td>43.676637</td>\n",
              "      <td>-79.449042</td>\n",
              "      <td>Italian Restaurant</td>\n",
              "    </tr>\n",
              "    <tr>\n",
              "      <th>59</th>\n",
              "      <td>Weston-Pellam Park</td>\n",
              "      <td>43.6716</td>\n",
              "      <td>-79.4577</td>\n",
              "      <td>Playa Cabana Cantina</td>\n",
              "      <td>43.665315</td>\n",
              "      <td>-79.465548</td>\n",
              "      <td>Mexican Restaurant</td>\n",
              "    </tr>\n",
              "    <tr>\n",
              "      <th>60</th>\n",
              "      <td>Weston-Pellam Park</td>\n",
              "      <td>43.6716</td>\n",
              "      <td>-79.4577</td>\n",
              "      <td>Boo Radley's Junction Bar and Grill</td>\n",
              "      <td>43.666110</td>\n",
              "      <td>-79.450170</td>\n",
              "      <td>Bar</td>\n",
              "    </tr>\n",
              "    <tr>\n",
              "      <th>61</th>\n",
              "      <td>Weston-Pellam Park</td>\n",
              "      <td>43.6716</td>\n",
              "      <td>-79.4577</td>\n",
              "      <td>Dairy Freeze</td>\n",
              "      <td>43.675195</td>\n",
              "      <td>-79.454846</td>\n",
              "      <td>Burger Joint</td>\n",
              "    </tr>\n",
              "    <tr>\n",
              "      <th>62</th>\n",
              "      <td>Weston-Pellam Park</td>\n",
              "      <td>43.6716</td>\n",
              "      <td>-79.4577</td>\n",
              "      <td>bulk barn</td>\n",
              "      <td>43.673537</td>\n",
              "      <td>-79.468748</td>\n",
              "      <td>Grocery Store</td>\n",
              "    </tr>\n",
              "    <tr>\n",
              "      <th>63</th>\n",
              "      <td>Weston-Pellam Park</td>\n",
              "      <td>43.6716</td>\n",
              "      <td>-79.4577</td>\n",
              "      <td>The Big Ragu</td>\n",
              "      <td>43.675961</td>\n",
              "      <td>-79.450465</td>\n",
              "      <td>Italian Restaurant</td>\n",
              "    </tr>\n",
              "    <tr>\n",
              "      <th>64</th>\n",
              "      <td>Weston-Pellam Park</td>\n",
              "      <td>43.6716</td>\n",
              "      <td>-79.4577</td>\n",
              "      <td>The Stockyards</td>\n",
              "      <td>43.672681</td>\n",
              "      <td>-79.469688</td>\n",
              "      <td>Shopping Mall</td>\n",
              "    </tr>\n",
              "    <tr>\n",
              "      <th>65</th>\n",
              "      <td>Weston-Pellam Park</td>\n",
              "      <td>43.6716</td>\n",
              "      <td>-79.4577</td>\n",
              "      <td>Cool Hand of a Girl</td>\n",
              "      <td>43.665410</td>\n",
              "      <td>-79.462822</td>\n",
              "      <td>Café</td>\n",
              "    </tr>\n",
              "    <tr>\n",
              "      <th>66</th>\n",
              "      <td>Weston-Pellam Park</td>\n",
              "      <td>43.6716</td>\n",
              "      <td>-79.4577</td>\n",
              "      <td>Boulderz Climbing Centre</td>\n",
              "      <td>43.666857</td>\n",
              "      <td>-79.449508</td>\n",
              "      <td>Gym</td>\n",
              "    </tr>\n",
              "  </tbody>\n",
              "</table>\n",
              "</div>"
            ],
            "text/plain": [
              "          Neighborhood  ...         Venue Category\n",
              "27  Weston-Pellam Park  ...          Jewelry Store\n",
              "28  Weston-Pellam Park  ...   Brazilian Restaurant\n",
              "29  Weston-Pellam Park  ...                 Bakery\n",
              "30  Weston-Pellam Park  ...     Seafood Restaurant\n",
              "31  Weston-Pellam Park  ...            Snack Place\n",
              "32  Weston-Pellam Park  ...  Vietnamese Restaurant\n",
              "33  Weston-Pellam Park  ...                   Café\n",
              "34  Weston-Pellam Park  ...            Fish Market\n",
              "35  Weston-Pellam Park  ...                   Café\n",
              "36  Weston-Pellam Park  ...             Restaurant\n",
              "37  Weston-Pellam Park  ...            Coffee Shop\n",
              "38  Weston-Pellam Park  ...              Gastropub\n",
              "39  Weston-Pellam Park  ...            Coffee Shop\n",
              "40  Weston-Pellam Park  ...                   Park\n",
              "41  Weston-Pellam Park  ...                   Café\n",
              "42  Weston-Pellam Park  ...        Organic Grocery\n",
              "43  Weston-Pellam Park  ...                   Café\n",
              "44  Weston-Pellam Park  ...     Italian Restaurant\n",
              "45  Weston-Pellam Park  ...                    Bar\n",
              "46  Weston-Pellam Park  ...     Italian Restaurant\n",
              "47  Weston-Pellam Park  ...            Flea Market\n",
              "48  Weston-Pellam Park  ...              Gastropub\n",
              "49  Weston-Pellam Park  ...        Thai Restaurant\n",
              "50  Weston-Pellam Park  ...                   Pool\n",
              "51  Weston-Pellam Park  ...  Vietnamese Restaurant\n",
              "52  Weston-Pellam Park  ...           Burger Joint\n",
              "53  Weston-Pellam Park  ...         Ice Cream Shop\n",
              "54  Weston-Pellam Park  ...                   Café\n",
              "55  Weston-Pellam Park  ...  Portuguese Restaurant\n",
              "56  Weston-Pellam Park  ...            Music Venue\n",
              "57  Weston-Pellam Park  ...             Food Truck\n",
              "58  Weston-Pellam Park  ...     Italian Restaurant\n",
              "59  Weston-Pellam Park  ...     Mexican Restaurant\n",
              "60  Weston-Pellam Park  ...                    Bar\n",
              "61  Weston-Pellam Park  ...           Burger Joint\n",
              "62  Weston-Pellam Park  ...          Grocery Store\n",
              "63  Weston-Pellam Park  ...     Italian Restaurant\n",
              "64  Weston-Pellam Park  ...          Shopping Mall\n",
              "65  Weston-Pellam Park  ...                   Café\n",
              "66  Weston-Pellam Park  ...                    Gym\n",
              "\n",
              "[40 rows x 7 columns]"
            ]
          },
          "metadata": {
            "tags": []
          },
          "execution_count": 51
        }
      ]
    },
    {
      "cell_type": "markdown",
      "metadata": {
        "id": "718XfK7rpmZH",
        "colab_type": "text"
      },
      "source": [
        "After discussing the potential locations, we shortlist five locations and measure the distance with the nearby Eastern restaurants"
      ]
    },
    {
      "cell_type": "code",
      "metadata": {
        "id": "AEsvWRnWXKQb",
        "colab_type": "code",
        "colab": {}
      },
      "source": [
        "Grocery_Store = (43.673537, -79.468748)\n",
        "Bakery = (43.675441,\t-79.454658)\n",
        "Fish_Market = (43.674868, -79.456559)\n",
        "Shopping_Mall = (43.672681, -79.469688)\n",
        "Organic_Grocery = (43.667743,\t-79.463271)\n",
        "\n",
        "R1 = (43.651105, -79.477104)\n",
        "R2 = (43.662916, -79.421911)\n",
        "R3 = (43.662959, -79.421646)\n",
        "R4 = (43.693249, -79.461851)\n",
        "R5 = (43.651010, -79.477179)"
      ],
      "execution_count": 0,
      "outputs": []
    },
    {
      "cell_type": "code",
      "metadata": {
        "id": "ogTYwyu-aVPK",
        "colab_type": "code",
        "colab": {}
      },
      "source": [
        "Weston_Pellam_locations = [Grocery_Store, Bakery, Fish_Market, Shopping_Mall, Organic_Grocery]\n",
        "Nearby_Restaurants = [R1, R2, R3, R4, R5]"
      ],
      "execution_count": 0,
      "outputs": []
    },
    {
      "cell_type": "code",
      "metadata": {
        "id": "y-B5RlBha95f",
        "colab_type": "code",
        "colab": {}
      },
      "source": [
        "location_distances = []\n",
        "for location in Weston_Pellam_locations:\n",
        "  distances = []\n",
        "  for restaurant in Nearby_Restaurants:\n",
        "    d = geopy.distance.geodesic(location, restaurant).km\n",
        "    distances.append(d)\n",
        "  location_distances.append(distances)\n",
        "location_distances"
      ],
      "execution_count": 0,
      "outputs": []
    },
    {
      "cell_type": "code",
      "metadata": {
        "id": "LZpXgdVfbu2m",
        "colab_type": "code",
        "colab": {
          "base_uri": "https://localhost:8080/",
          "height": 102
        },
        "outputId": "60b3d849-105e-43bd-b231-34ed5f5968fe"
      },
      "source": [
        "distance_matrix = np.array(location_distances)\n",
        "distance_matrix"
      ],
      "execution_count": 58,
      "outputs": [
        {
          "output_type": "execute_result",
          "data": {
            "text/plain": [
              "array([[2.58184709, 3.9575168 , 3.97650643, 2.25962421, 2.59361731],\n",
              "       [3.2540222 , 2.985257  , 3.00197079, 2.0618283 , 3.26615932],\n",
              "       [3.11717384, 3.09387157, 3.11115299, 2.08634074, 3.12933048],\n",
              "       [2.47071983, 4.00315424, 4.02244446, 2.37098871, 2.48242779],\n",
              "       [2.15923165, 3.37875342, 3.39910635, 2.83618206, 2.17139487]])"
            ]
          },
          "metadata": {
            "tags": []
          },
          "execution_count": 58
        }
      ]
    },
    {
      "cell_type": "code",
      "metadata": {
        "id": "HK5woUDEcFGz",
        "colab_type": "code",
        "colab": {
          "base_uri": "https://localhost:8080/",
          "height": 204
        },
        "outputId": "298d5f29-5996-40c7-c573-a6f6dad1efab"
      },
      "source": [
        "index = ['High-Park Swansea (Indian)','Palmerston-Little Italy (Indian)','Palmerston-Little Italy (Indian)', \n",
        "         'Caledonia-Fairbank (Falafel)','High-Park Swansea (Falafel)']\n",
        "final_report = pd.DataFrame(distance_matrix, \n",
        "                            columns=['Grocery_Store', 'Bakery', 'Fish_Market', 'Shopping_Mall', 'Organic_Grocery'],\n",
        "                            index = index)\n",
        "final_report"
      ],
      "execution_count": 62,
      "outputs": [
        {
          "output_type": "execute_result",
          "data": {
            "text/html": [
              "<div>\n",
              "<style scoped>\n",
              "    .dataframe tbody tr th:only-of-type {\n",
              "        vertical-align: middle;\n",
              "    }\n",
              "\n",
              "    .dataframe tbody tr th {\n",
              "        vertical-align: top;\n",
              "    }\n",
              "\n",
              "    .dataframe thead th {\n",
              "        text-align: right;\n",
              "    }\n",
              "</style>\n",
              "<table border=\"1\" class=\"dataframe\">\n",
              "  <thead>\n",
              "    <tr style=\"text-align: right;\">\n",
              "      <th></th>\n",
              "      <th>Grocery_Store</th>\n",
              "      <th>Bakery</th>\n",
              "      <th>Fish_Market</th>\n",
              "      <th>Shopping_Mall</th>\n",
              "      <th>Organic_Grocery</th>\n",
              "    </tr>\n",
              "  </thead>\n",
              "  <tbody>\n",
              "    <tr>\n",
              "      <th>High-Park Swansea (Indian)</th>\n",
              "      <td>2.581847</td>\n",
              "      <td>3.957517</td>\n",
              "      <td>3.976506</td>\n",
              "      <td>2.259624</td>\n",
              "      <td>2.593617</td>\n",
              "    </tr>\n",
              "    <tr>\n",
              "      <th>Palmerston-Little Italy (Indian)</th>\n",
              "      <td>3.254022</td>\n",
              "      <td>2.985257</td>\n",
              "      <td>3.001971</td>\n",
              "      <td>2.061828</td>\n",
              "      <td>3.266159</td>\n",
              "    </tr>\n",
              "    <tr>\n",
              "      <th>Palmerston-Little Italy (Indian)</th>\n",
              "      <td>3.117174</td>\n",
              "      <td>3.093872</td>\n",
              "      <td>3.111153</td>\n",
              "      <td>2.086341</td>\n",
              "      <td>3.129330</td>\n",
              "    </tr>\n",
              "    <tr>\n",
              "      <th>Caledonia-Fairbank (Falafel)</th>\n",
              "      <td>2.470720</td>\n",
              "      <td>4.003154</td>\n",
              "      <td>4.022444</td>\n",
              "      <td>2.370989</td>\n",
              "      <td>2.482428</td>\n",
              "    </tr>\n",
              "    <tr>\n",
              "      <th>High-Park Swansea (Falafel)</th>\n",
              "      <td>2.159232</td>\n",
              "      <td>3.378753</td>\n",
              "      <td>3.399106</td>\n",
              "      <td>2.836182</td>\n",
              "      <td>2.171395</td>\n",
              "    </tr>\n",
              "  </tbody>\n",
              "</table>\n",
              "</div>"
            ],
            "text/plain": [
              "                                  Grocery_Store  ...  Organic_Grocery\n",
              "High-Park Swansea (Indian)             2.581847  ...         2.593617\n",
              "Palmerston-Little Italy (Indian)       3.254022  ...         3.266159\n",
              "Palmerston-Little Italy (Indian)       3.117174  ...         3.129330\n",
              "Caledonia-Fairbank (Falafel)           2.470720  ...         2.482428\n",
              "High-Park Swansea (Falafel)            2.159232  ...         2.171395\n",
              "\n",
              "[5 rows x 5 columns]"
            ]
          },
          "metadata": {
            "tags": []
          },
          "execution_count": 62
        }
      ]
    },
    {
      "cell_type": "markdown",
      "metadata": {
        "id": "Ke-pPlZGp1ED",
        "colab_type": "text"
      },
      "source": [
        "Analyzing the distance matrix from the shortlisted locations and nearby Eastern restaurants, we suggest to Mr. Arif two things:\n",
        "1. If he wants to be nearer to the locations of the Eastern restaurants, then he may try to find a land near the Grocery_Store, Shopping_Mall or the Organic_Grocery.\n",
        "2. Otherwise, if he wants to keep a greater distance to other Eastern restaurants, he may try to find a place near the Bakery or the Fish_Market.\n",
        "\n",
        "Saying he would not want to be too far away from the area where people prefer Eastern food, he decides to buy a place near the Grocery_Store."
      ]
    },
    {
      "cell_type": "markdown",
      "metadata": {
        "id": "GkCnHpX5q3tj",
        "colab_type": "text"
      },
      "source": [
        "Thanks for viewing my assignment!\n",
        "\n",
        "After all, Mr. Arif in this assignment is a fictitious character."
      ]
    },
    {
      "cell_type": "code",
      "metadata": {
        "id": "f5ezm7SgrFLS",
        "colab_type": "code",
        "colab": {}
      },
      "source": [
        ""
      ],
      "execution_count": 0,
      "outputs": []
    }
  ]
}